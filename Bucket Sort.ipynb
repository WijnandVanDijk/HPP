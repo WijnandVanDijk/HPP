{
 "cells": [
  {
   "cell_type": "markdown",
   "metadata": {},
   "source": [
    "# Bucket Sort"
   ]
  },
  {
   "cell_type": "code",
   "execution_count": 1,
   "metadata": {},
   "outputs": [],
   "source": [
    "import numpy as np"
   ]
  },
  {
   "cell_type": "code",
   "execution_count": 48,
   "metadata": {},
   "outputs": [],
   "source": [
    "def bucket_sort_split(data):\n",
    "    \n",
    "    negatieve = []\n",
    "    positieve = []\n",
    "    for i in data: \n",
    "        if i < 0: \n",
    "            negatieve.append(i) \n",
    "        else:\n",
    "            positieve.append(i)\n",
    "            \n",
    "    positieve_negatieve = list(map(abs, negatieve))\n",
    "    print(positieve_negatieve)\n",
    "    \n",
    "    sorteer_negatieve = bucket_sort(positieve_negatieve)\n",
    "    sorteer_positieve = bucket_sort(positieve)\n",
    "    \n",
    "def bucket_sort(data):\n",
    "    \n",
    "    lengte_aftel = len(str(max(data)))\n",
    "\n",
    "    if len(data) == 0:\n",
    "        print('Er is geen data ingevoerd')\n",
    "        \n",
    "    maak_buckets = [[], [], [], [], [], [], [], [], [], []]\n",
    "    \n",
    "    data_string = list(map(str, data))\n",
    "    \n",
    "    for i in data_string:\n",
    "        if lengte_aftel > len(i):\n",
    "            maak_buckets[0].append(i)\n",
    "        else:\n",
    "            laatste_nummer = i[-1]\n",
    "            bucket_nummer = int(laatste_nummer)\n",
    "            maak_buckets[bucket_nummer].append(i)\n",
    "    \n",
    "    data2 = []\n",
    "    for i in maak_buckets:\n",
    "        data2 += i\n",
    "    \n",
    "    lengte_aftel -= 1\n",
    "    \n",
    "    if lengte_aftel == 0:\n",
    "        return bucket_sort(data2)\n",
    "    else: \n",
    "        return data2"
   ]
  },
  {
   "cell_type": "code",
   "execution_count": 49,
   "metadata": {},
   "outputs": [
    {
     "name": "stdout",
     "output_type": "stream",
     "text": [
      "[8, 1, 24]\n"
     ]
    }
   ],
   "source": [
    "bucket_sort_split([-8, 12, 4, -1, 85, 64, -24, 642])"
   ]
  },
  {
   "cell_type": "code",
   "execution_count": null,
   "metadata": {},
   "outputs": [],
   "source": []
  }
 ],
 "metadata": {
  "kernelspec": {
   "display_name": "Python 3",
   "language": "python",
   "name": "python3"
  },
  "language_info": {
   "codemirror_mode": {
    "name": "ipython",
    "version": 3
   },
   "file_extension": ".py",
   "mimetype": "text/x-python",
   "name": "python",
   "nbconvert_exporter": "python",
   "pygments_lexer": "ipython3",
   "version": "3.8.0"
  }
 },
 "nbformat": 4,
 "nbformat_minor": 4
}
