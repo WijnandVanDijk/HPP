{
 "cells": [
  {
   "cell_type": "markdown",
   "metadata": {},
   "source": [
    "# Bucket Sort"
   ]
  },
  {
   "cell_type": "code",
   "execution_count": 2,
   "metadata": {},
   "outputs": [],
   "source": [
    "import numpy as np"
   ]
  },
  {
   "cell_type": "code",
   "execution_count": 26,
   "metadata": {},
   "outputs": [],
   "source": [
    "def bucket_sort_split(data):\n",
    "    \n",
    "    negatieve = []\n",
    "    positieve = []\n",
    "    for i in data: \n",
    "        if i < 0: \n",
    "            negatieve.append(i) \n",
    "        else:\n",
    "            positieve.append(i)\n",
    "            \n",
    "    positieve_negatieve = list(map(abs, negatieve))\n",
    "    \n",
    "def bucket_sort(data):\n",
    "\n",
    "    if len(data) == 0:\n",
    "        print('Er is geen data ingevoerd')\n",
    "        \n",
    "    maak_buckets = [[] for i in range(0, 10)]\n",
    "    \n",
    "    data_string = list(map(str, data))\n",
    "    \n",
    "    for i in data_string:\n",
    "        x = i[-1]\n",
    "        print(x)\n",
    "\n",
    "        \n",
    "    \n",
    "    \n"
   ]
  },
  {
   "cell_type": "code",
   "execution_count": 29,
   "metadata": {},
   "outputs": [
    {
     "name": "stdout",
     "output_type": "stream",
     "text": [
      "8\n",
      "2\n",
      "4\n",
      "1\n",
      "5\n",
      "4\n",
      "5\n",
      "2\n"
     ]
    }
   ],
   "source": [
    "bucket_sort([-8, 12, 4, -1, 85, 64, -25, 642])"
   ]
  },
  {
   "cell_type": "code",
   "execution_count": null,
   "metadata": {},
   "outputs": [],
   "source": []
  }
 ],
 "metadata": {
  "kernelspec": {
   "display_name": "Python 3",
   "language": "python",
   "name": "python3"
  },
  "language_info": {
   "codemirror_mode": {
    "name": "ipython",
    "version": 3
   },
   "file_extension": ".py",
   "mimetype": "text/x-python",
   "name": "python",
   "nbconvert_exporter": "python",
   "pygments_lexer": "ipython3",
   "version": "3.8.0"
  }
 },
 "nbformat": 4,
 "nbformat_minor": 4
}
