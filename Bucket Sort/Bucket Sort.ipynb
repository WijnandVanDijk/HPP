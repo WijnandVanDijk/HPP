{
 "cells": [
  {
   "cell_type": "markdown",
   "metadata": {},
   "source": [
    "# Bucket Sort"
   ]
  },
  {
   "cell_type": "markdown",
   "metadata": {},
   "source": [
    "### Imports"
   ]
  },
  {
   "cell_type": "code",
   "execution_count": 1,
   "metadata": {},
   "outputs": [],
   "source": [
    "import numpy as np\n",
    "import sys\n",
    "import matplotlib.pyplot as plt"
   ]
  },
  {
   "cell_type": "markdown",
   "metadata": {},
   "source": [
    "## De split\n",
    "Hier worden de positieve en negatieve getallen van elkaar gescheiden, daarna worden de negatieve getallen postieve gemaakt. Nadat de positieve en negatieve (tijdelijk positief) getallen gesorteerd zijn, worden de negatieve getallen weer negatief gemaakt en daarna worden ze omgedraaid. Dat allemaal om daarna weer samen gevoegd te worden met de andere lijst. Als dat allemaal gebuirt is is de lijst gesorteerd."
   ]
  },
  {
   "cell_type": "code",
   "execution_count": 2,
   "metadata": {},
   "outputs": [],
   "source": [
    "def bucket_sort_split(data):\n",
    "    \n",
    "    negatieve = [] # lijst waar alle negatieve getallen in gaan\n",
    "    positieve = [] # lijst waar alle positieve getallen in gaan\n",
    "    for i in data: # de for-loop die de getallen splitst\n",
    "        if i < 0: \n",
    "            negatieve.append(i) \n",
    "        else:\n",
    "            positieve.append(i)\n",
    "            \n",
    "    positieve_negatieve = [ -1 * x for x in negatieve] # maakt alle negatieve getallen positief\n",
    "    \n",
    "    sorteer_negatieve = bucket_sort(positieve_negatieve) # roept de functie aan die de getallen gaat sorteren\n",
    "    sorteer_positieve = bucket_sort(positieve)\n",
    "    \n",
    "    sorteer_negatieve = [ -x for x in sorteer_negatieve] # maakt de gesorteerde 'negatieve' getallen weer negatief\n",
    "    \n",
    "    sorteer_negatieve = sorteer_negatieve[::-1] # flipt de negatieve lijst\n",
    "    \n",
    "    return sorteer_negatieve + sorteer_positieve"
   ]
  },
  {
   "cell_type": "markdown",
   "metadata": {},
   "source": [
    "## Het sorteren\n",
    "Hier worden de lijsten gesorteerd, eerst word er gekeken wat het langste getal is en de buckets worden aangemaakt. Daarna komt er een for-loop, in die for-loop word eerst gekeken of de lengte van getal 'i' kleiner is dan de teller. Als dat het geval is, word er gekekeken naar het laatste nummer van het getal, gebasseerd op het laastste getal wordt het in een bucket gedaan. Nadat alle getallen in de lijst geweest zijn gaat de teller één omhoog (de teller is dan 1, dan wordt de volgende loop gekeken naar het één-na-laatste getal) en wordt de bucket toegevoegd aan een nieuwe array. Als de max_lengte (lengte van langste getal) nog niet behaald is door de teller gaat de functie nog een keer runnen met de nieuwe data. Als een van de getallen niet kleiner is dan de teller wordt het getal automatisch in de meest linker bucket gedaan (0 dus). Dit allemaal om de getallen in de goede volgorde te krijgen. Hieronder een voorbeeld met de getallen: 324, 1 en 35. ![alt text](bucketsort.png \"Title\")"
   ]
  },
  {
   "cell_type": "code",
   "execution_count": 3,
   "metadata": {},
   "outputs": [],
   "source": [
    "def bucket_sort(data, teller=0):\n",
    "\n",
    "    #teller = 0 dit werkt niet, wordt elke keer weer naarr 0 gezet, daarom in parameter van func\n",
    "    max_lengte = len(str(max(data))) # kijkt naar de lengste van het grootste getal.\n",
    "\n",
    "    if len(data) == 0:\n",
    "        print('Er is geen data ingevoerd') # als er geen lijst gegeven wordt komt deze message in beeld\n",
    "\n",
    "    maak_buckets = [[], [], [], [], [], [], [], [], [], []] # 10 'buckets' gemaakt\n",
    "\n",
    "    for i in data:\n",
    "        if (teller >= len(str(i))): # als de lengte van 'i' gelijk of groter is dan de teller wordt het getal naar \n",
    "            # het meest linker bucket gedaan\n",
    "            maak_buckets[0].append(i)\n",
    "        else:\n",
    "            laatste_nummer = str(i)[-1 - teller] # het nummer waar naar gekeken wordt, in de eerste loop is dit de laatste, \n",
    "            # daarna de een-na-laatste etc.\n",
    "            bucket_nummer = int(laatste_nummer) # De bucket waar het getal in gaat\n",
    "            maak_buckets[bucket_nummer].append(i) # voegt het nummer toe in de juiste bucket\n",
    "            \n",
    "    teller += 1 # verhoogd de teller met één\n",
    "\n",
    "    data2 = []\n",
    "    for i in maak_buckets: # voegt de buckets inclusief de toegevoegde waardes van de for loop hierboven toe aan een niewe array\n",
    "        data2 += i \n",
    "        \n",
    "    if teller >= max_lengte: # als de teller gelijk of groter is dan de lengte van het grootste getal van de array stopt \n",
    "        # de iteratie en wordt de data weergegeven (wat als het goed is gesorteerd is, als het programma werkt)\n",
    "        return data2\n",
    "    else: \n",
    "        return bucket_sort(data2, teller=teller) # als de teller nog niet gelijk of groter is als max_lengte wordt deze functie\n",
    "    # weer aangeroepen maar dan met de nieuwe array die hebben gemaakt bij 'data2'."
   ]
  },
  {
   "cell_type": "code",
   "execution_count": 4,
   "metadata": {},
   "outputs": [
    {
     "data": {
      "text/plain": [
       "[-324, -35, -1, 4, 12, 64, 85, 122, 6450]"
      ]
     },
     "execution_count": 4,
     "metadata": {},
     "output_type": "execute_result"
    }
   ],
   "source": [
    "bucket_sort_split([12, 4, -324, -1, 85, 64, -35, 6450, 122])"
   ]
  },
  {
   "cell_type": "markdown",
   "metadata": {},
   "source": [
    "## Lijsten maken\n",
    "Hier maak ik de arrays aan om de Bucket Sort te testen op grote arrays."
   ]
  },
  {
   "cell_type": "code",
   "execution_count": 5,
   "metadata": {},
   "outputs": [],
   "source": [
    "duizend = np.random.randint(-1000000, 1000000, size=1000)\n",
    "tien_duizend = np.random.randint(-1000000, 1000000, size=10000)\n",
    "honderd_duizend = np.random.randint(-1000000, 1000000, size=100000)\n",
    "miljoen = np.random.randint(-1000000, 1000000, size=1000000)\n",
    "# miljard = np.random.randint(-1000000, 1000000, size=1000000000) doe maar niet..."
   ]
  },
  {
   "cell_type": "markdown",
   "metadata": {},
   "source": [
    "## Testing\n",
    "Hier test ik of de Bucket List sort het goed gesorteerd heeft, dat doe ik door het te vergelijken met de ingebouwde sorteer functie van Python."
   ]
  },
  {
   "cell_type": "code",
   "execution_count": 6,
   "metadata": {},
   "outputs": [
    {
     "data": {
      "text/plain": [
       "True"
      ]
     },
     "execution_count": 6,
     "metadata": {},
     "output_type": "execute_result"
    }
   ],
   "source": [
    "bucket_sort_split(duizend) == sorted(duizend)"
   ]
  },
  {
   "cell_type": "code",
   "execution_count": 7,
   "metadata": {},
   "outputs": [
    {
     "data": {
      "text/plain": [
       "True"
      ]
     },
     "execution_count": 7,
     "metadata": {},
     "output_type": "execute_result"
    }
   ],
   "source": [
    "bucket_sort_split(tien_duizend) == sorted(tien_duizend)"
   ]
  },
  {
   "cell_type": "code",
   "execution_count": 8,
   "metadata": {},
   "outputs": [
    {
     "data": {
      "text/plain": [
       "True"
      ]
     },
     "execution_count": 8,
     "metadata": {},
     "output_type": "execute_result"
    }
   ],
   "source": [
    "bucket_sort_split(honderd_duizend) == sorted(honderd_duizend)"
   ]
  },
  {
   "cell_type": "code",
   "execution_count": 9,
   "metadata": {},
   "outputs": [
    {
     "data": {
      "text/plain": [
       "True"
      ]
     },
     "execution_count": 9,
     "metadata": {},
     "output_type": "execute_result"
    }
   ],
   "source": [
    "bucket_sort_split(miljoen) == sorted(miljoen)"
   ]
  },
  {
   "cell_type": "markdown",
   "metadata": {},
   "source": [
    "### Conclusie\n",
    "De conclusie van dit mini-onderzoek is dat de Bucket Sort alle drie de arrays goed gesorteerd heeft."
   ]
  },
  {
   "cell_type": "markdown",
   "metadata": {},
   "source": [
    "## Hoelang duurt het?\n",
    "In de volgende paar blokjes gaan we kijken hoelang de functie er over doet om alles goed te sorteren."
   ]
  },
  {
   "cell_type": "code",
   "execution_count": 10,
   "metadata": {},
   "outputs": [
    {
     "name": "stdout",
     "output_type": "stream",
     "text": [
      "7.59 ms ± 91.9 µs per loop (mean ± std. dev. of 7 runs, 100 loops each)\n"
     ]
    }
   ],
   "source": [
    "%timeit bucket_sort_split(duizend)"
   ]
  },
  {
   "cell_type": "code",
   "execution_count": 11,
   "metadata": {},
   "outputs": [
    {
     "name": "stdout",
     "output_type": "stream",
     "text": [
      "74.9 ms ± 974 µs per loop (mean ± std. dev. of 7 runs, 10 loops each)\n"
     ]
    }
   ],
   "source": [
    "%timeit bucket_sort_split(tien_duizend)"
   ]
  },
  {
   "cell_type": "code",
   "execution_count": 12,
   "metadata": {},
   "outputs": [
    {
     "name": "stdout",
     "output_type": "stream",
     "text": [
      "762 ms ± 11.8 ms per loop (mean ± std. dev. of 7 runs, 1 loop each)\n"
     ]
    }
   ],
   "source": [
    "%timeit bucket_sort_split(honderd_duizend)"
   ]
  },
  {
   "cell_type": "code",
   "execution_count": 13,
   "metadata": {},
   "outputs": [
    {
     "name": "stdout",
     "output_type": "stream",
     "text": [
      "8.63 s ± 72.8 ms per loop (mean ± std. dev. of 7 runs, 1 loop each)\n"
     ]
    }
   ],
   "source": [
    "%timeit bucket_sort_split(miljoen)"
   ]
  },
  {
   "cell_type": "code",
   "execution_count": 14,
   "metadata": {},
   "outputs": [
    {
     "data": {
      "text/plain": [
       "Text(0.5, 1.0, 'Tjdsduur verschillende lengte lijsten')"
      ]
     },
     "execution_count": 14,
     "metadata": {},
     "output_type": "execute_result"
    },
    {
     "data": {
      "image/png": "[encoded data removed]",
      "text/plain": [
       "<Figure size 432x288 with 1 Axes>"
      ]
     },
     "metadata": {
      "needs_background": "light"
     },
     "output_type": "display_data"
    }
   ],
   "source": [
    "plt.plot([1000, 10000, 100000, 1000000], [7.57, 75.5, 756, 8630])\n",
    "plt.ylabel('Milliseconds')\n",
    "plt.xlabel('Lengte lijst')\n",
    "plt.title('Tjdsduur verschillende lengte lijsten')"
   ]
  },
  {
   "cell_type": "markdown",
   "metadata": {},
   "source": [
    "### Conclusie runtime\n",
    "In de tijden zie je dat per stap in lijst grote (1000 naar 10000 naar 100k etc.) de tijd ongeveer 10 keer zo lang duurt. Wat toevallig ook de toename is per lijst stap, 1000 x 10 = 10k etc. Dus de twee hebben een lineair verband."
   ]
  },
  {
   "cell_type": "markdown",
   "metadata": {},
   "source": [
    "## Hoeveel ruimte neemt het in?\n",
    "Hier gaan we kijken hoeveel ruimte de functie inneemt met verschillende lengte arrays. We kijken naar het aantal Bytes dat het geheugen gebruikt."
   ]
  },
  {
   "cell_type": "code",
   "execution_count": 15,
   "metadata": {},
   "outputs": [
    {
     "data": {
      "text/plain": [
       "8056"
      ]
     },
     "execution_count": 15,
     "metadata": {},
     "output_type": "execute_result"
    }
   ],
   "source": [
    "sys.getsizeof(bucket_sort_split(duizend))"
   ]
  },
  {
   "cell_type": "code",
   "execution_count": 16,
   "metadata": {},
   "outputs": [
    {
     "data": {
      "text/plain": [
       "80056"
      ]
     },
     "execution_count": 16,
     "metadata": {},
     "output_type": "execute_result"
    }
   ],
   "source": [
    "sys.getsizeof(bucket_sort_split(tien_duizend))"
   ]
  },
  {
   "cell_type": "code",
   "execution_count": 17,
   "metadata": {},
   "outputs": [
    {
     "data": {
      "text/plain": [
       "800056"
      ]
     },
     "execution_count": 17,
     "metadata": {},
     "output_type": "execute_result"
    }
   ],
   "source": [
    "sys.getsizeof(bucket_sort_split(honderd_duizend))"
   ]
  },
  {
   "cell_type": "code",
   "execution_count": 18,
   "metadata": {},
   "outputs": [
    {
     "data": {
      "text/plain": [
       "8000056"
      ]
     },
     "execution_count": 18,
     "metadata": {},
     "output_type": "execute_result"
    }
   ],
   "source": [
    "sys.getsizeof(bucket_sort_split(miljoen))"
   ]
  },
  {
   "cell_type": "code",
   "execution_count": 19,
   "metadata": {},
   "outputs": [
    {
     "data": {
      "text/plain": [
       "Text(0.5, 1.0, 'Ruimte nodig verschillende lengte lijsten')"
      ]
     },
     "execution_count": 19,
     "metadata": {},
     "output_type": "execute_result"
    },
    {
     "data": {
      "image/png": "[encoded data removed]",
      "text/plain": [
       "<Figure size 432x288 with 1 Axes>"
      ]
     },
     "metadata": {
      "needs_background": "light"
     },
     "output_type": "display_data"
    }
   ],
   "source": [
    "plt.plot([1000, 10000, 100000, 1000000], [8056, 80056, 800056, 8000056])\n",
    "plt.ylabel('Bytes')\n",
    "plt.xlabel('Lengte lijst')\n",
    "plt.title('Ruimte nodig verschillende lengte lijsten')"
   ]
  },
  {
   "cell_type": "markdown",
   "metadata": {},
   "source": [
    "### Conclusie ruimte\n",
    "Ook hier zie het lineaire verband weer terug, per stap in lijst grote neem de ruimte die nodig is ook met (ongeveer) 10  keer toe."
   ]
  },
  {
   "cell_type": "markdown",
   "metadata": {},
   "source": [
    "### Bruikbaarheid\n",
    "Dit algoritme is goed te gebruiken op kleine tot medium grote arrays, als het richting de miljoen gaat duurt het toch wel iets te lang. Dan kan beter een ander algoritme gebruikt worden."
   ]
  }
 ],
 "metadata": {
  "kernelspec": {
   "display_name": "Python 3",
   "language": "python",
   "name": "python3"
  },
  "language_info": {
   "codemirror_mode": {
    "name": "ipython",
    "version": 3
   },
   "file_extension": ".py",
   "mimetype": "text/x-python",
   "name": "python",
   "nbconvert_exporter": "python",
   "pygments_lexer": "ipython3",
   "version": "3.8.0"
  }
 },
 "nbformat": 4,
 "nbformat_minor": 4
}
