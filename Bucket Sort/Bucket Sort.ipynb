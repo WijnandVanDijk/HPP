{
 "cells": [
  {
   "cell_type": "markdown",
   "metadata": {},
   "source": [
    "# Bucket Sort"
   ]
  },
  {
   "cell_type": "markdown",
   "metadata": {},
   "source": [
    "### Imports"
   ]
  },
  {
   "cell_type": "code",
   "execution_count": 1,
   "metadata": {},
   "outputs": [],
   "source": [
    "import numpy as np\n",
    "import sys"
   ]
  },
  {
   "cell_type": "markdown",
   "metadata": {},
   "source": [
    "## De split\n",
    "Hier worden de positieve en negatieve getallen van elkaar gescheiden, daarna worden de negatieve getallen postieve gemaakt. Nadat de positieve en negatieve (tijdelijk positief) getallen gesorteerd zijn, worden de negatieve getallen weer negatief gemaakt en daarna worden ze omgedraaid. Dat allemaal om daarna weer samen gevoegd te worden met de andere lijst. Als dat allemaal gebuirt is is de lijst gesorteerd."
   ]
  },
  {
   "cell_type": "code",
   "execution_count": 2,
   "metadata": {},
   "outputs": [],
   "source": [
    "def bucket_sort_split(data):\n",
    "    \n",
    "    negatieve = []\n",
    "    positieve = []\n",
    "    for i in data: \n",
    "        if i < 0: \n",
    "            negatieve.append(i) \n",
    "        else:\n",
    "            positieve.append(i)\n",
    "            \n",
    "    positieve_negatieve = [ -1 * x for x in negatieve]\n",
    "    \n",
    "    sorteer_negatieve = bucket_sort(positieve_negatieve)\n",
    "    sorteer_positieve = bucket_sort(positieve)\n",
    "    \n",
    "    sorteer_negatieve = [ -x for x in sorteer_negatieve]\n",
    "    \n",
    "    sorteer_negatieve = sorteer_negatieve[::-1]\n",
    "    \n",
    "    return sorteer_negatieve + sorteer_positieve"
   ]
  },
  {
   "cell_type": "markdown",
   "metadata": {},
   "source": [
    "## Het sorteren\n",
    "Hier worden de lijsten gesorteerd, eerst word er gekeken wat het langste getal is en de buckets worden aangemaakt. Daarna komt er een for-loop, in die for-loop word eerst gekeken of de lengte van getal 'i' kleiner is dan de teller. Als dat het geval is, word er gekekeken naar het laatste nummer van het getal, gebasseerd op het laastste getal wordt het in een bucket gedaan. Nadat alle getallen in de lijst geweest zijn gaat de teller één omhoog (de teller is dan 1, dan wordt de volgende loop gekeken naar het één-na-laatste getal) en wordt de bucket toegevoegd aan een nieuwe array. Als de max_lengte (lengte van langste getal) nog niet behaald is door de teller gaat de functie nog een keer runnen met de nieuwe data. Als een van de getallen niet kleiner is dan de teller wordt het getal automatisch in de meest linker bucket gedaan (0 dus). Dit allemaal om de getallen in de goede volgorde te krijgen. Hieronder een voorbeeld met de getallen: 324, 1 en 35. ![alt text](bucketsort.png \"Title\")"
   ]
  },
  {
   "cell_type": "code",
   "execution_count": 3,
   "metadata": {},
   "outputs": [],
   "source": [
    "def bucket_sort(data, teller=0):\n",
    " \n",
    "    #teller = 0 dit werkt niet, wordt elke keer weer naarr 0 gezet, daarom in parameter van func\n",
    "    max_lengte = len(str(max(data)))\n",
    "\n",
    "    if len(data) == 0:\n",
    "        print('Er is geen data ingevoerd')\n",
    "\n",
    "    maak_buckets = [[], [], [], [], [], [], [], [], [], []]\n",
    "\n",
    "    for i in data:\n",
    "\n",
    "        if (teller >= len(str(i))):\n",
    "            maak_buckets[0].append(i)\n",
    "        else:\n",
    "            laatste_nummer = str(i)[-1 - teller]\n",
    "            bucket_nummer = int(laatste_nummer)\n",
    "            maak_buckets[bucket_nummer].append(i)\n",
    "            \n",
    "    teller += 1\n",
    "\n",
    "    data2 = []\n",
    "    for i in maak_buckets:\n",
    "        data2 += i\n",
    "\n",
    "    if teller >= max_lengte:\n",
    "        return data2\n",
    "    else: \n",
    "        return bucket_sort(data2, teller=teller)"
   ]
  },
  {
   "cell_type": "code",
   "execution_count": 4,
   "metadata": {},
   "outputs": [
    {
     "data": {
      "text/plain": [
       "[-324, -35, -1, 4, 12, 64, 85, 122, 6451512]"
      ]
     },
     "execution_count": 4,
     "metadata": {},
     "output_type": "execute_result"
    }
   ],
   "source": [
    "bucket_sort_split([12, 4, -324, -1, 85, 64, -35, 6451512, 122])"
   ]
  },
  {
   "cell_type": "markdown",
   "metadata": {},
   "source": [
    "## Lijsten maken\n",
    "Hier maak ik de arrays aan om de Bucket Sort te testen op grote arrays."
   ]
  },
  {
   "cell_type": "code",
   "execution_count": 5,
   "metadata": {},
   "outputs": [],
   "source": [
    "duizend = np.random.randint(-1000000, 1000000, size=1000)\n",
    "tien_duizend = np.random.randint(-1000000, 1000000, size=10000)\n",
    "dertig_duizend = np.random.randint(-1000000, 1000000, size=100000)\n",
    "miljoen = np.random.randint(-1000000, 1000000, size=1000000)\n",
    "# miljard = np.random.randint(-1000000, 1000000, size=1000000000) doe maar niet..."
   ]
  },
  {
   "cell_type": "markdown",
   "metadata": {},
   "source": [
    "## Testing\n",
    "Hier test ik of de Bucket List sort het goed gesorteerd heeft, dat doe ik door het te vergelijken met de ingebouwde sorteer functie van Python."
   ]
  },
  {
   "cell_type": "code",
   "execution_count": 6,
   "metadata": {},
   "outputs": [
    {
     "data": {
      "text/plain": [
       "True"
      ]
     },
     "execution_count": 6,
     "metadata": {},
     "output_type": "execute_result"
    }
   ],
   "source": [
    "bucket_sort_split(duizend) == sorted(duizend)"
   ]
  },
  {
   "cell_type": "code",
   "execution_count": 7,
   "metadata": {},
   "outputs": [
    {
     "data": {
      "text/plain": [
       "True"
      ]
     },
     "execution_count": 7,
     "metadata": {},
     "output_type": "execute_result"
    }
   ],
   "source": [
    "bucket_sort_split(tien_duizend) == sorted(tien_duizend)"
   ]
  },
  {
   "cell_type": "code",
   "execution_count": 8,
   "metadata": {},
   "outputs": [
    {
     "data": {
      "text/plain": [
       "True"
      ]
     },
     "execution_count": 8,
     "metadata": {},
     "output_type": "execute_result"
    }
   ],
   "source": [
    "bucket_sort_split(dertig_duizend) == sorted(dertig_duizend)"
   ]
  },
  {
   "cell_type": "code",
   "execution_count": 9,
   "metadata": {},
   "outputs": [
    {
     "data": {
      "text/plain": [
       "True"
      ]
     },
     "execution_count": 9,
     "metadata": {},
     "output_type": "execute_result"
    }
   ],
   "source": [
    "bucket_sort_split(miljoen) == sorted(miljoen)"
   ]
  },
  {
   "cell_type": "markdown",
   "metadata": {},
   "source": [
    "### Conclusie\n",
    "De conclusie van dit mini-onderzoek is dat de Bucket Sort alle drie de arrays goed gesorteerd heeft."
   ]
  },
  {
   "cell_type": "markdown",
   "metadata": {},
   "source": [
    "## Hoelang duurt het?\n",
    "In de volgende paar blokjes gaan we kijken hoelang de functie er over doet om alles goed te sorteren."
   ]
  },
  {
   "cell_type": "code",
   "execution_count": 10,
   "metadata": {},
   "outputs": [
    {
     "name": "stdout",
     "output_type": "stream",
     "text": [
      "8.16 ms ± 347 µs per loop (mean ± std. dev. of 7 runs, 100 loops each)\n"
     ]
    }
   ],
   "source": [
    "%timeit bucket_sort_split(duizend)"
   ]
  },
  {
   "cell_type": "code",
   "execution_count": 11,
   "metadata": {},
   "outputs": [
    {
     "name": "stdout",
     "output_type": "stream",
     "text": [
      "82.3 ms ± 1.77 ms per loop (mean ± std. dev. of 7 runs, 10 loops each)\n"
     ]
    }
   ],
   "source": [
    "%timeit bucket_sort_split(tien_duizend)"
   ]
  },
  {
   "cell_type": "code",
   "execution_count": 12,
   "metadata": {},
   "outputs": [
    {
     "name": "stdout",
     "output_type": "stream",
     "text": [
      "799 ms ± 15.7 ms per loop (mean ± std. dev. of 7 runs, 1 loop each)\n"
     ]
    }
   ],
   "source": [
    "%timeit bucket_sort_split(dertig_duizend)"
   ]
  },
  {
   "cell_type": "code",
   "execution_count": 13,
   "metadata": {},
   "outputs": [
    {
     "name": "stdout",
     "output_type": "stream",
     "text": [
      "8.89 s ± 181 ms per loop (mean ± std. dev. of 7 runs, 1 loop each)\n"
     ]
    }
   ],
   "source": [
    "%timeit bucket_sort_split(miljoen)"
   ]
  },
  {
   "cell_type": "markdown",
   "metadata": {},
   "source": [
    "## Hoeveel ruimte neemt het in?\n",
    "Hier gaan we kijken hoeveel ruimte de functie inneemt met verschillende lengte arrays. We kijken naar het aantal Bytes dat het geheugen gebruikt."
   ]
  },
  {
   "cell_type": "code",
   "execution_count": 14,
   "metadata": {},
   "outputs": [
    {
     "data": {
      "text/plain": [
       "8056"
      ]
     },
     "execution_count": 14,
     "metadata": {},
     "output_type": "execute_result"
    }
   ],
   "source": [
    "sys.getsizeof(bucket_sort_split(duizend))"
   ]
  },
  {
   "cell_type": "code",
   "execution_count": 15,
   "metadata": {},
   "outputs": [
    {
     "data": {
      "text/plain": [
       "80056"
      ]
     },
     "execution_count": 15,
     "metadata": {},
     "output_type": "execute_result"
    }
   ],
   "source": [
    "sys.getsizeof(bucket_sort_split(tien_duizend))"
   ]
  },
  {
   "cell_type": "code",
   "execution_count": 16,
   "metadata": {},
   "outputs": [
    {
     "data": {
      "text/plain": [
       "800056"
      ]
     },
     "execution_count": 16,
     "metadata": {},
     "output_type": "execute_result"
    }
   ],
   "source": [
    "sys.getsizeof(bucket_sort_split(dertig_duizend))"
   ]
  },
  {
   "cell_type": "code",
   "execution_count": 17,
   "metadata": {},
   "outputs": [
    {
     "data": {
      "text/plain": [
       "8000056"
      ]
     },
     "execution_count": 17,
     "metadata": {},
     "output_type": "execute_result"
    }
   ],
   "source": [
    "sys.getsizeof(bucket_sort_split(miljoen))"
   ]
  },
  {
   "cell_type": "markdown",
   "metadata": {},
   "source": [
    "# Big O\n",
    "Hier zou ik graag nog wat feedback/uitleg over krijgen."
   ]
  }
 ],
 "metadata": {
  "kernelspec": {
   "display_name": "Python 3",
   "language": "python",
   "name": "python3"
  },
  "language_info": {
   "codemirror_mode": {
    "name": "ipython",
    "version": 3
   },
   "file_extension": ".py",
   "mimetype": "text/x-python",
   "name": "python",
   "nbconvert_exporter": "python",
   "pygments_lexer": "ipython3",
   "version": "3.8.0"
  }
 },
 "nbformat": 4,
 "nbformat_minor": 4
}
