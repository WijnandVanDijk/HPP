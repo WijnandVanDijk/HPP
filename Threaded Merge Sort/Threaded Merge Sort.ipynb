{
 "cells": [
  {
   "cell_type": "markdown",
   "metadata": {},
   "source": [
    "### De imports"
   ]
  },
  {
   "cell_type": "code",
   "execution_count": 1,
   "metadata": {},
   "outputs": [],
   "source": [
    "import multiprocessing\n",
    "import matplotlib.pyplot as plt\n",
    "import timeit"
   ]
  },
  {
   "cell_type": "markdown",
   "metadata": {},
   "source": [
    "### merge_sort\n",
    "In deze functie word de ingevoerde lijst van getallen in twee gesplitst en daarna wordt de merge_lists functie op die twee halve lijsten aangeroepen. Meer over de merge_lists functie hieronder."
   ]
  },
  {
   "cell_type": "code",
   "execution_count": 2,
   "metadata": {},
   "outputs": [],
   "source": [
    "def merge_sort(lijst):\n",
    "    if len(lijst) <= 1:\n",
    "        return lijst\n",
    "    else: \n",
    "        midden = int(len(lijst)/2)\n",
    "        links = merge_sort(lijst[:midden])\n",
    "        rechts = merge_sort(lijst[midden:])\n",
    "        \n",
    "    return merge_lists(links, rechts)"
   ]
  },
  {
   "cell_type": "markdown",
   "metadata": {},
   "source": [
    "### merge_lists\n",
    "Hier worden de lijsten gesorteerd, ..."
   ]
  },
  {
   "cell_type": "code",
   "execution_count": 3,
   "metadata": {},
   "outputs": [],
   "source": [
    "def merge_lists(links,rechts):\n",
    "    l = 0 # teller voor linker helft, daarom l gekozen\n",
    "    r = 0 # teller voor rechts\n",
    "    resultaat = []\n",
    "    while l < len(links) and r < len(rechts):\n",
    "        if links[l] <= rechts[r]:\n",
    "            resultaat.append(links[l])\n",
    "            l += 1\n",
    "        else:\n",
    "            resultaat.append(rechts[r])\n",
    "            r += 1\n",
    "            \n",
    "    resultaat += links[l:]\n",
    "    resultaat += rechts[r:]\n",
    "    return resultaat"
   ]
  },
  {
   "cell_type": "markdown",
   "metadata": {},
   "source": [
    "### De output\n",
    "Hier wordt de merge_sort functie aangeroepen met als parameter de lijst van getallen, ook wordt hier de output weergegeven."
   ]
  },
  {
   "cell_type": "code",
   "execution_count": 4,
   "metadata": {},
   "outputs": [
    {
     "name": "stdout",
     "output_type": "stream",
     "text": [
      "[3, 7, 8, 11, 12, 15, 24, 38]\n"
     ]
    }
   ],
   "source": [
    "lijst = [24, 8, 15, 3, 38, 12, 11, 7]\n",
    "print(merge_sort(lijst))"
   ]
  },
  {
   "cell_type": "markdown",
   "metadata": {},
   "source": [
    "### Test\n",
    "Hier test ik of het merge sort algoritme het goed gesorteerd heeft, dat doe ik door het te vergelijken met de ingebouwde sorteer functie van Python."
   ]
  },
  {
   "cell_type": "code",
   "execution_count": 5,
   "metadata": {},
   "outputs": [
    {
     "data": {
      "text/plain": [
       "True"
      ]
     },
     "execution_count": 5,
     "metadata": {},
     "output_type": "execute_result"
    }
   ],
   "source": [
    "sorted(lijst) == merge_sort(lijst)"
   ]
  },
  {
   "cell_type": "markdown",
   "metadata": {},
   "source": [
    "### Threads\n",
    "Hier worden de functies van hierboven uitgevoerd door verschillende hoeveelheden threads, met als doel om te zien of er veel verschil in de run time zit"
   ]
  },
  {
   "cell_type": "code",
   "execution_count": 6,
   "metadata": {},
   "outputs": [
    {
     "name": "stdout",
     "output_type": "stream",
     "text": [
      "<multiprocessing.pool.Pool state=RUN pool_size=1>\n",
      "[<multiprocessing.pool.ApplyResult object at 0x0000026B7FC951F0>]\n",
      "9.13 µs ± 134 ns per loop (mean ± std. dev. of 7 runs, 100000 loops each)\n",
      "<multiprocessing.pool.Pool state=RUN pool_size=2>\n",
      "[<multiprocessing.pool.ApplyResult object at 0x0000026B3DB62580>]\n",
      "9.08 µs ± 156 ns per loop (mean ± std. dev. of 7 runs, 100000 loops each)\n",
      "<multiprocessing.pool.Pool state=RUN pool_size=4>\n",
      "[<multiprocessing.pool.ApplyResult object at 0x0000026B7FC77B80>]\n",
      "9.35 µs ± 160 ns per loop (mean ± std. dev. of 7 runs, 100000 loops each)\n",
      "<multiprocessing.pool.Pool state=RUN pool_size=8>\n",
      "[<multiprocessing.pool.ApplyResult object at 0x0000026B7FC77BB0>]\n",
      "9.13 µs ± 191 ns per loop (mean ± std. dev. of 7 runs, 100000 loops each)\n",
      "<multiprocessing.pool.Pool state=RUN pool_size=16>\n",
      "[<multiprocessing.pool.ApplyResult object at 0x0000026B7FC7E190>]\n",
      "9.24 µs ± 131 ns per loop (mean ± std. dev. of 7 runs, 100000 loops each)\n"
     ]
    }
   ],
   "source": [
    "threads = [1,2,4,8,16]\n",
    "\n",
    "for thread_count in threads:\n",
    "    pool = multiprocessing.Pool(thread_count)\n",
    "    print(pool)\n",
    "    \n",
    "    results = [pool.apply_async(merge_sort(lijst))]\n",
    "    print(results)\n",
    "    %timeit merge_sort(lijst)"
   ]
  },
  {
   "cell_type": "markdown",
   "metadata": {},
   "source": [
    "### Grafiek\n",
    "hier is een grafiek gemaakt met als invoer de tijden van de test hierboven, ik heb getallen ingevuld die ik als uitslag krijg toen in het runde, deze getallen verschillen elke keer, daarom is deze grafiek niet altijd correct."
   ]
  },
  {
   "cell_type": "code",
   "execution_count": 7,
   "metadata": {},
   "outputs": [
    {
     "data": {
      "text/plain": [
       "[<matplotlib.lines.Line2D at 0x26b87e0abe0>]"
      ]
     },
     "execution_count": 7,
     "metadata": {},
     "output_type": "execute_result"
    },
    {
     "data": {
      "image/png": "[encoded data removed]",
      "text/plain": [
       "<Figure size 432x288 with 1 Axes>"
      ]
     },
     "metadata": {
      "needs_background": "light"
     },
     "output_type": "display_data"
    }
   ],
   "source": [
    "plt.plot([1,2,4,8,16], [9.13, 9.08, 9.35, 9.13, 9.24])"
   ]
  },
  {
   "cell_type": "markdown",
   "metadata": {},
   "source": [
    "### Conclusie \n",
    "Het maakt weinig verschil in hoeveel threads je gebruikt bij deze opdracht, de verschillen zijn zo klein dat het niet te merken is voor de mens. Deze uitkomst vond ik erg apart, ik had namelijk verwacht dat 2 keer de kracht 2 keer zo snel zou gaan, niet dus. Daarom heb ik wat onderzoek gaan doen en ben ik deze video tegengekomen: https://www.youtube.com/watch?v=Obt-vMVdM8s.\n",
    "In deze video wordt in de eerste 10 minuten veel uitgelegd over de GIL, na 10 minuten was ik mijn concentratie al weer kwijt en ging ik maar een website zoeken waar de GIL sneller en of beter wordt uitgelegd. Toen kwam ik op deze site: https://realpython.com/python-gil/. Daar blijkt al snel waarom de GIL is toegevoegd, namelijk voor memory management. Maar met die oplossing kwamen ook een paar nadelen, namelijk dat Python nu niet echt meer geschikt is om parallel taken uit te voeren"
   ]
  }
 ],
 "metadata": {
  "kernelspec": {
   "display_name": "Python 3",
   "language": "python",
   "name": "python3"
  },
  "language_info": {
   "codemirror_mode": {
    "name": "ipython",
    "version": 3
   },
   "file_extension": ".py",
   "mimetype": "text/x-python",
   "name": "python",
   "nbconvert_exporter": "python",
   "pygments_lexer": "ipython3",
   "version": "3.8.0"
  }
 },
 "nbformat": 4,
 "nbformat_minor": 4
}
