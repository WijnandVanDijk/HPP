{
 "cells": [
  {
   "cell_type": "markdown",
   "metadata": {},
   "source": [
    "### De imports"
   ]
  },
  {
   "cell_type": "code",
   "execution_count": 1,
   "metadata": {},
   "outputs": [],
   "source": [
    "import multiprocessing\n",
    "import matplotlib.pyplot as plt\n",
    "import timeit\n",
    "import numpy as np\n",
    "import sys"
   ]
  },
  {
   "cell_type": "markdown",
   "metadata": {},
   "source": [
    "### merge_sort\n",
    "In deze functie word de ingevoerde lijst van getallen in twee gesplitst en daarna wordt de merge_lists functie op die twee halve lijsten aangeroepen. Meer over de merge_lists functie hieronder."
   ]
  },
  {
   "cell_type": "code",
   "execution_count": 2,
   "metadata": {},
   "outputs": [],
   "source": [
    "def merge_sort(lijst):\n",
    "    if len(lijst) <= 1:\n",
    "        return lijst\n",
    "    else: \n",
    "        midden = int(len(lijst)/2)\n",
    "        links = merge_sort(lijst[:midden])\n",
    "        rechts = merge_sort(lijst[midden:])\n",
    "        \n",
    "    return merge_lists(links, rechts)"
   ]
  },
  {
   "cell_type": "markdown",
   "metadata": {},
   "source": [
    "### merge_lists\n",
    "Hier worden de lijsten gesorteerd, ..."
   ]
  },
  {
   "cell_type": "code",
   "execution_count": 3,
   "metadata": {},
   "outputs": [],
   "source": [
    "def merge_lists(links,rechts):\n",
    "    l = 0 # teller voor linker helft, daarom l gekozen\n",
    "    r = 0 # teller voor rechts\n",
    "    resultaat = []\n",
    "    while l < len(links) and r < len(rechts):\n",
    "        if links[l] <= rechts[r]:\n",
    "            resultaat.append(links[l])\n",
    "            l += 1\n",
    "        else:\n",
    "            resultaat.append(rechts[r])\n",
    "            r += 1\n",
    "    while l < len(links):\n",
    "        resultaat.append(links[l])\n",
    "        l += 1\n",
    "        #print(resultaat) # als je het stap voor stap wilt zien haal de '#' weg.\n",
    "    while r < len(rechts):\n",
    "        resultaat.append(rechts[r])\n",
    "        r += 1\n",
    "        #print(resultaat)\n",
    "    resultaat += links[l:]\n",
    "    resultaat += rechts[r:]\n",
    "    return resultaat"
   ]
  },
  {
   "cell_type": "markdown",
   "metadata": {},
   "source": [
    "### De output\n",
    "Hier wordt de merge_sort functie aangeroepen met als parameter de lijst van getallen, ook wordt hier de output weergegeven."
   ]
  },
  {
   "cell_type": "code",
   "execution_count": 4,
   "metadata": {},
   "outputs": [
    {
     "name": "stdout",
     "output_type": "stream",
     "text": [
      "[3, 7, 8, 11, 12, 15, 24, 38]\n"
     ]
    }
   ],
   "source": [
    "lijst = [24, 8, 15, 3, 38, 12, 11, 7]\n",
    "print(merge_sort(lijst))"
   ]
  },
  {
   "cell_type": "markdown",
   "metadata": {},
   "source": [
    "# Grote lijsten\n",
    "Hier gaan we het algoritme testen op grotere lijsten van duizend, tien duizend, honderd duizend en één miljoen."
   ]
  },
  {
   "cell_type": "code",
   "execution_count": 5,
   "metadata": {},
   "outputs": [],
   "source": [
    "duizend = np.random.randint(1, 1000000, size=1000)\n",
    "tien_duizend = np.random.randint(1, 1000000, size=10000)\n",
    "honderd_duizend = np.random.randint(1, 1000000, size=100000)\n",
    "miljoen = np.random.randint(1, 1000000, size=1000000)\n",
    "duizend = duizend.tolist()\n",
    "tien_duizend = tien_duizend.tolist()\n",
    "honderd_duizend = honderd_duizend.tolist()\n",
    "miljoen = miljoen.tolist()"
   ]
  },
  {
   "cell_type": "markdown",
   "metadata": {},
   "source": [
    "### Test\n",
    "Hier test ik of het merge sort algoritme het goed gesorteerd heeft, dat doe ik door het te vergelijken met de ingebouwde sorteer functie van Python.\n",
    "\n",
    "Ook heb ik van één van de grote lijsten de uitkomst geprint om zo te laten zien dat het ook echt werkt."
   ]
  },
  {
   "cell_type": "code",
   "execution_count": 6,
   "metadata": {
    "scrolled": true
   },
   "outputs": [
    {
     "name": "stdout",
     "output_type": "stream",
     "text": [
      "[794, 1359, 1525, 1895, 2763, 2945, 3245, 3852, 4634, 5004, 6949, 6989, 8861, 9476, 10375, 11536, 11938, 13694, 14667, 16756, 18507, 18825, 18981, 20126, 20170, 20467, 20521, 21607, 21799, 22993, 25704, 26443, 27312, 35398, 35429, 36854, 38032, 39197, 41063, 41271, 41302, 42511, 43685, 44023, 44577, 48544, 50569, 51767, 52368, 53103, 54313, 54857, 55191, 56183, 56203, 57099, 57369, 59216, 59296, 59343, 61238, 61688, 61972, 62887, 63286, 63888, 65538, 68369, 69996, 71466, 71712, 74127, 75207, 75862, 76663, 76731, 80065, 81225, 81411, 81985, 82547, 83029, 87870, 89175, 89216, 89591, 90568, 94368, 95057, 95573, 97443, 97691, 98234, 99570, 99890, 102703, 102750, 103401, 104064, 108833, 109113, 111939, 112529, 117616, 118658, 119027, 119681, 119901, 120443, 120499, 121634, 122022, 122207, 123646, 125908, 126850, 127472, 128028, 133408, 134267, 136481, 137928, 139661, 140555, 141559, 141859, 143876, 145420, 146282, 146655, 146771, 146832, 147554, 149202, 149344, 152390, 152863, 154274, 155390, 155811, 156037, 156084, 157409, 159666, 159671, 160429, 160616, 162868, 163085, 163718, 167112, 168942, 169044, 169543, 171365, 171451, 171616, 171969, 173599, 175172, 175312, 175605, 178501, 178771, 180710, 181302, 181700, 182989, 185118, 185693, 186312, 186750, 187855, 189419, 189884, 190151, 190843, 191561, 192715, 195596, 196931, 197264, 198684, 199062, 205170, 205606, 207061, 207507, 207532, 208245, 209171, 210110, 211067, 211453, 212024, 213227, 213297, 214922, 215519, 219735, 219883, 221308, 221480, 222858, 224826, 226037, 226083, 226644, 226702, 229375, 229573, 234826, 235051, 235454, 236956, 238413, 238872, 239264, 240352, 240747, 241592, 241945, 243856, 245214, 245557, 245763, 247336, 247616, 249005, 249388, 249516, 249717, 249956, 250203, 251662, 251694, 251809, 252185, 253153, 253416, 257246, 257732, 257742, 258810, 259069, 259949, 260100, 260377, 260639, 261607, 264080, 265124, 267628, 268453, 269664, 270611, 271489, 272125, 274448, 274583, 275204, 277229, 279279, 279415, 279633, 280834, 281098, 283153, 283482, 284053, 284169, 284881, 285198, 286164, 287079, 287596, 287962, 288515, 289264, 289409, 291536, 291911, 293225, 293393, 293961, 295526, 299014, 299094, 299349, 303686, 303955, 305473, 306507, 307791, 307837, 308471, 309983, 311018, 312165, 312711, 313080, 314067, 314315, 316322, 320449, 320570, 320721, 321193, 324615, 326619, 327087, 328294, 329719, 329932, 331012, 331162, 331995, 333032, 335611, 336583, 338544, 339466, 340702, 341028, 341145, 341314, 341418, 341766, 345640, 345910, 347242, 347597, 348835, 349090, 349502, 351095, 352037, 353260, 356082, 356096, 356572, 356766, 357249, 361090, 364477, 365124, 365235, 366713, 366728, 368210, 368507, 368621, 369259, 370857, 373332, 373377, 373697, 377184, 379396, 379533, 379701, 381928, 382693, 382884, 383192, 384896, 385951, 385967, 388012, 390110, 390928, 391203, 392461, 392609, 392702, 393370, 393383, 394535, 396714, 396800, 398763, 399557, 399800, 401023, 402536, 403551, 406495, 406568, 406603, 407949, 407960, 409250, 411018, 411266, 411957, 412735, 415899, 416243, 416946, 418999, 419118, 420676, 421699, 421923, 422495, 423003, 425042, 426051, 426793, 431826, 432051, 433941, 434381, 437637, 438869, 441717, 442878, 443149, 443619, 443691, 444878, 446915, 447129, 447236, 447478, 448483, 449010, 452649, 455102, 457483, 463497, 463748, 465042, 465128, 465793, 467483, 467584, 468048, 468432, 468687, 468781, 470499, 472391, 472527, 472704, 473627, 473945, 474058, 474278, 474451, 476124, 476714, 477809, 478150, 478933, 482183, 482447, 482890, 483027, 484437, 484912, 485084, 485964, 487176, 487383, 487621, 489240, 489790, 491813, 491850, 493297, 493607, 493708, 493716, 494587, 495789, 496652, 497605, 498477, 499890, 503082, 503552, 504488, 506006, 506397, 508222, 510209, 510775, 511013, 511333, 512235, 513533, 514519, 514619, 514768, 515427, 515612, 516162, 518112, 519012, 519690, 520540, 520935, 521309, 521548, 522746, 522889, 523216, 523282, 524357, 524449, 524656, 524947, 525618, 525651, 526214, 527551, 527947, 529116, 529237, 529980, 533259, 533735, 535306, 535758, 536175, 536196, 538513, 538747, 540739, 541120, 541246, 542082, 546424, 546682, 546842, 547032, 547127, 547893, 549051, 549141, 551507, 551863, 553913, 554094, 556246, 556302, 556460, 556821, 558158, 560292, 562252, 562937, 564041, 564414, 565132, 570314, 571095, 572732, 573570, 574389, 574906, 576545, 578105, 578528, 579848, 580767, 581521, 581604, 581733, 582340, 583374, 583414, 584782, 585381, 585477, 585717, 587142, 587737, 589157, 589347, 589597, 590401, 592282, 593262, 594207, 594454, 597461, 600539, 600735, 601509, 602588, 605185, 605568, 606828, 607716, 608775, 609654, 610427, 610502, 610516, 610874, 612522, 612704, 612863, 615792, 616117, 616511, 616995, 617399, 618188, 619588, 619628, 620133, 620402, 620852, 622244, 623404, 623848, 626482, 626494, 629521, 630212, 631784, 632272, 632950, 634331, 637854, 638525, 639361, 639402, 642056, 642164, 642997, 643160, 645693, 648439, 648870, 649306, 649962, 651517, 652554, 652627, 653576, 654357, 654873, 655491, 655694, 656576, 656887, 657165, 658607, 659450, 661707, 661992, 662152, 662159, 664277, 667371, 669745, 672372, 672645, 672654, 672967, 673054, 673487, 673536, 674716, 674978, 675329, 675346, 678764, 678774, 679582, 680062, 680882, 681045, 682740, 682909, 683203, 683700, 683728, 683964, 684524, 684610, 685147, 686672, 687021, 687866, 687997, 694502, 694970, 696396, 696734, 697323, 698469, 700586, 700609, 705373, 705386, 706127, 707411, 707941, 709409, 709594, 710664, 711336, 711379, 715540, 715921, 716271, 718008, 718035, 718868, 719436, 720072, 720253, 720530, 721096, 721779, 722106, 722179, 724904, 725421, 725841, 726357, 726924, 728381, 728855, 729209, 729219, 729512, 729530, 730270, 731414, 734396, 734713, 734976, 735010, 735096, 735578, 737351, 737369, 738131, 742093, 742211, 744114, 744166, 744435, 745771, 748187, 749574, 750826, 750911, 752156, 754931, 755019, 756323, 756816, 757398, 757630, 757670, 758346, 758497, 758823, 759438, 762275, 762926, 764122, 766110, 767982, 768121, 768697, 768712, 770017, 773062, 773460, 775163, 776801, 777593, 778186, 778199, 778227, 779541, 780546, 780601, 780830, 781257, 781861, 782191, 782202, 782228, 782272, 782319, 783382, 783819, 784226, 784469, 784755, 785988, 791324, 792015, 793942, 794939, 796065, 796139, 796263, 796480, 799269, 799513, 801222, 804287, 805406, 805714, 807786, 808537, 810760, 812579, 813389, 815145, 816036, 816340, 818526, 818728, 818972, 819303, 819595, 819698, 820269, 821214, 822282, 822397, 823371, 824837, 829699, 830828, 831126, 836945, 837718, 838292, 838350, 839310, 839622, 841532, 841892, 844550, 845546, 845566, 846404, 846468, 846813, 846916, 847559, 852159, 852581, 852888, 855941, 856393, 860236, 860853, 861210, 861476, 861958, 862047, 864187, 864901, 865578, 869799, 872262, 872308, 873237, 873910, 874680, 875273, 876067, 877076, 880230, 880487, 880805, 882015, 884100, 884938, 885117, 885278, 885789, 886776, 887337, 887699, 889126, 889484, 891225, 891404, 891790, 892897, 893594, 894727, 894954, 896406, 897911, 899017, 904205, 904987, 905419, 907553, 908161, 910053, 910804, 913405, 913509, 914597, 917187, 917524, 917637, 918850, 919270, 919518, 920124, 921157, 925377, 927049, 927379, 929094, 929484, 931957, 934374, 934476, 935116, 935521, 935711, 936527, 936572, 938273, 938799, 939418, 939608, 942902, 944033, 944840, 945991, 946254, 947795, 951561, 952971, 955289, 956129, 956868, 956995, 957990, 958215, 958566, 958629, 959484, 959827, 960731, 963424, 966544, 968039, 968740, 969741, 969797, 970183, 971424, 971467, 971909, 973091, 973295, 973734, 973750, 973847, 973873, 973960, 975704, 977149, 978056, 978377, 979760, 981462, 982028, 982848, 983578, 985167, 985751, 986304, 987095, 987295, 987466, 987698, 987752, 987912, 989337, 989848, 989993, 990314, 991100, 991743, 992481, 995435, 996232, 997633, 998324]\n"
     ]
    }
   ],
   "source": [
    "print(merge_sort(duizend))"
   ]
  },
  {
   "cell_type": "code",
   "execution_count": 7,
   "metadata": {},
   "outputs": [
    {
     "data": {
      "text/plain": [
       "True"
      ]
     },
     "execution_count": 7,
     "metadata": {},
     "output_type": "execute_result"
    }
   ],
   "source": [
    "sorted(duizend) == merge_sort(duizend)"
   ]
  },
  {
   "cell_type": "code",
   "execution_count": 8,
   "metadata": {},
   "outputs": [
    {
     "data": {
      "text/plain": [
       "True"
      ]
     },
     "execution_count": 8,
     "metadata": {},
     "output_type": "execute_result"
    }
   ],
   "source": [
    "sorted(tien_duizend) == merge_sort(tien_duizend)"
   ]
  },
  {
   "cell_type": "code",
   "execution_count": 9,
   "metadata": {},
   "outputs": [
    {
     "data": {
      "text/plain": [
       "True"
      ]
     },
     "execution_count": 9,
     "metadata": {},
     "output_type": "execute_result"
    }
   ],
   "source": [
    "sorted(honderd_duizend) == merge_sort(honderd_duizend)"
   ]
  },
  {
   "cell_type": "code",
   "execution_count": 10,
   "metadata": {},
   "outputs": [
    {
     "data": {
      "text/plain": [
       "True"
      ]
     },
     "execution_count": 10,
     "metadata": {},
     "output_type": "execute_result"
    }
   ],
   "source": [
    "sorted(miljoen) == merge_sort(miljoen)"
   ]
  },
  {
   "cell_type": "markdown",
   "metadata": {},
   "source": [
    "### Threads\n",
    "Hier worden de functies van hierboven uitgevoerd door verschillende hoeveelheden threads, met als doel om te zien of er veel verschil in de run time zit. De tijden staan in nanoseconden."
   ]
  },
  {
   "cell_type": "code",
   "execution_count": 11,
   "metadata": {},
   "outputs": [],
   "source": [
    "def thread_test(functie):\n",
    "\n",
    "    threads = [1,2,4,8]\n",
    "\n",
    "    for thread_count in threads:\n",
    "        pool = multiprocessing.Pool(thread_count)\n",
    "        print(pool)\n",
    "\n",
    "        results = [pool.apply_async(functie)]\n",
    "        print(results)\n",
    "        %timeit functie"
   ]
  },
  {
   "cell_type": "code",
   "execution_count": 17,
   "metadata": {},
   "outputs": [
    {
     "name": "stdout",
     "output_type": "stream",
     "text": [
      "<multiprocessing.pool.Pool state=RUN pool_size=1>\n",
      "[<multiprocessing.pool.ApplyResult object at 0x0000025CFE511880>]\n",
      "18.3 ns ± 0.214 ns per loop (mean ± std. dev. of 7 runs, 100000000 loops each)\n",
      "<multiprocessing.pool.Pool state=RUN pool_size=2>\n",
      "[<multiprocessing.pool.ApplyResult object at 0x0000025C832D4970>]\n",
      "18.1 ns ± 0.124 ns per loop (mean ± std. dev. of 7 runs, 100000000 loops each)\n",
      "<multiprocessing.pool.Pool state=RUN pool_size=4>\n",
      "[<multiprocessing.pool.ApplyResult object at 0x0000025CFE511D30>]\n",
      "18.3 ns ± 0.111 ns per loop (mean ± std. dev. of 7 runs, 100000000 loops each)\n",
      "<multiprocessing.pool.Pool state=RUN pool_size=8>\n",
      "[<multiprocessing.pool.ApplyResult object at 0x0000025C83299FD0>]\n",
      "18.1 ns ± 0.0671 ns per loop (mean ± std. dev. of 7 runs, 100000000 loops each)\n"
     ]
    }
   ],
   "source": [
    "thread_test(merge_sort(lijst))"
   ]
  },
  {
   "cell_type": "code",
   "execution_count": 18,
   "metadata": {},
   "outputs": [
    {
     "name": "stdout",
     "output_type": "stream",
     "text": [
      "<multiprocessing.pool.Pool state=RUN pool_size=1>\n",
      "[<multiprocessing.pool.ApplyResult object at 0x0000025CFE3FBC10>]\n",
      "18.2 ns ± 0.133 ns per loop (mean ± std. dev. of 7 runs, 100000000 loops each)\n",
      "<multiprocessing.pool.Pool state=RUN pool_size=2>\n",
      "[<multiprocessing.pool.ApplyResult object at 0x0000025CFE511280>]\n",
      "18.2 ns ± 0.0542 ns per loop (mean ± std. dev. of 7 runs, 100000000 loops each)\n",
      "<multiprocessing.pool.Pool state=RUN pool_size=4>\n",
      "[<multiprocessing.pool.ApplyResult object at 0x0000025CFE514370>]\n",
      "18.2 ns ± 0.0816 ns per loop (mean ± std. dev. of 7 runs, 100000000 loops each)\n",
      "<multiprocessing.pool.Pool state=RUN pool_size=8>\n",
      "[<multiprocessing.pool.ApplyResult object at 0x0000025CFE514A30>]\n",
      "18.2 ns ± 0.0674 ns per loop (mean ± std. dev. of 7 runs, 100000000 loops each)\n"
     ]
    }
   ],
   "source": [
    "thread_test(merge_sort(duizend))"
   ]
  },
  {
   "cell_type": "code",
   "execution_count": 19,
   "metadata": {},
   "outputs": [
    {
     "name": "stdout",
     "output_type": "stream",
     "text": [
      "<multiprocessing.pool.Pool state=RUN pool_size=1>\n",
      "[<multiprocessing.pool.ApplyResult object at 0x0000025CFE511A30>]\n",
      "18.2 ns ± 0.114 ns per loop (mean ± std. dev. of 7 runs, 100000000 loops each)\n",
      "<multiprocessing.pool.Pool state=RUN pool_size=2>\n",
      "[<multiprocessing.pool.ApplyResult object at 0x0000025CFE511850>]\n",
      "18.2 ns ± 0.0681 ns per loop (mean ± std. dev. of 7 runs, 100000000 loops each)\n",
      "<multiprocessing.pool.Pool state=RUN pool_size=4>\n",
      "[<multiprocessing.pool.ApplyResult object at 0x0000025CFE3F3520>]\n",
      "18.1 ns ± 0.0612 ns per loop (mean ± std. dev. of 7 runs, 100000000 loops each)\n",
      "<multiprocessing.pool.Pool state=RUN pool_size=8>\n",
      "[<multiprocessing.pool.ApplyResult object at 0x0000025CFE516130>]\n",
      "18.2 ns ± 0.0824 ns per loop (mean ± std. dev. of 7 runs, 100000000 loops each)\n"
     ]
    }
   ],
   "source": [
    "thread_test(merge_sort(tien_duizend))"
   ]
  },
  {
   "cell_type": "code",
   "execution_count": 20,
   "metadata": {},
   "outputs": [
    {
     "name": "stdout",
     "output_type": "stream",
     "text": [
      "<multiprocessing.pool.Pool state=RUN pool_size=1>\n",
      "[<multiprocessing.pool.ApplyResult object at 0x0000025CFE511070>]\n",
      "18.2 ns ± 0.125 ns per loop (mean ± std. dev. of 7 runs, 100000000 loops each)\n",
      "<multiprocessing.pool.Pool state=RUN pool_size=2>\n",
      "[<multiprocessing.pool.ApplyResult object at 0x0000025CFE3E5FA0>]\n",
      "18.2 ns ± 0.083 ns per loop (mean ± std. dev. of 7 runs, 100000000 loops each)\n",
      "<multiprocessing.pool.Pool state=RUN pool_size=4>\n",
      "[<multiprocessing.pool.ApplyResult object at 0x0000025CFE5110D0>]\n",
      "18.2 ns ± 0.142 ns per loop (mean ± std. dev. of 7 runs, 100000000 loops each)\n",
      "<multiprocessing.pool.Pool state=RUN pool_size=8>\n",
      "[<multiprocessing.pool.ApplyResult object at 0x0000025CFE3E5340>]\n",
      "18.2 ns ± 0.212 ns per loop (mean ± std. dev. of 7 runs, 100000000 loops each)\n"
     ]
    }
   ],
   "source": [
    "thread_test(merge_sort(honderd_duizend))"
   ]
  },
  {
   "cell_type": "code",
   "execution_count": 21,
   "metadata": {},
   "outputs": [
    {
     "name": "stdout",
     "output_type": "stream",
     "text": [
      "<multiprocessing.pool.Pool state=RUN pool_size=1>\n",
      "[<multiprocessing.pool.ApplyResult object at 0x0000025CFE511670>]\n",
      "18.4 ns ± 0.237 ns per loop (mean ± std. dev. of 7 runs, 10000000 loops each)\n",
      "<multiprocessing.pool.Pool state=RUN pool_size=2>\n",
      "[<multiprocessing.pool.ApplyResult object at 0x0000025CFE523580>]\n",
      "18.2 ns ± 0.116 ns per loop (mean ± std. dev. of 7 runs, 100000000 loops each)\n",
      "<multiprocessing.pool.Pool state=RUN pool_size=4>\n",
      "[<multiprocessing.pool.ApplyResult object at 0x0000025CFE3FBB20>]\n",
      "18.1 ns ± 0.0849 ns per loop (mean ± std. dev. of 7 runs, 100000000 loops each)\n",
      "<multiprocessing.pool.Pool state=RUN pool_size=8>\n",
      "[<multiprocessing.pool.ApplyResult object at 0x0000025CFE523EB0>]\n",
      "18.3 ns ± 0.155 ns per loop (mean ± std. dev. of 7 runs, 100000000 loops each)\n"
     ]
    }
   ],
   "source": [
    "thread_test(merge_sort(miljoen))"
   ]
  },
  {
   "cell_type": "markdown",
   "metadata": {},
   "source": [
    "### Grafiek\n",
    "hier is een grafiek gemaakt met als invoer de tijden van de test hierboven, ik heb getallen ingevuld die ik als uitslag krijg toen in het runde, deze getallen verschillen elke keer, daarom is deze grafiek niet altijd correct. De data die in de grafiek weergegeven is zijn de resulaten van de tests hierboven."
   ]
  },
  {
   "cell_type": "code",
   "execution_count": 22,
   "metadata": {},
   "outputs": [],
   "source": [
    "def plot_maken(tijden, tijden2, tijden3, tijden4, tijden5):\n",
    "\n",
    "    plt.plot([1,2,4,8], tijden)\n",
    "    plt.plot([1,2,4,8], tijden2)\n",
    "    plt.plot([1,2,4,8], tijden3)\n",
    "    plt.plot([1,2,4,8], tijden4)\n",
    "    plt.plot([1,2,4,8], tijden5)\n",
    "    plt.ylabel('Nanoseconde')\n",
    "    plt.xlabel('Threads')\n",
    "    plt.title('tijdsduur met verschillende hoeveelheden threads')\n",
    "    plt.legend(['8', '1000', '10000', '100000', '1000000'], loc='upper right')"
   ]
  },
  {
   "cell_type": "code",
   "execution_count": 23,
   "metadata": {},
   "outputs": [
    {
     "data": {
      "image/png": "[encoded data removed]",
      "text/plain": [
       "<Figure size 432x288 with 1 Axes>"
      ]
     },
     "metadata": {
      "needs_background": "light"
     },
     "output_type": "display_data"
    }
   ],
   "source": [
    "plot_maken([21.2, 20.8, 20.3, 19.9], [20.2, 20.1, 19.8, 19.5], [21.2, 21, 20.5, 20.2], [19.9, 20.2, 20.1, 20.1], [20.4, 19.4, 19.7, 20.1])"
   ]
  },
  {
   "cell_type": "markdown",
   "metadata": {},
   "source": [
    "### Hoeveel ruimte neemt het in?\n",
    "Hier gaan we kijken hoeveel ruimte de functie inneemt met verschillende lengte lijsten. We kijken naar het aantal Bytes dat het geheugen gebruikt."
   ]
  },
  {
   "cell_type": "code",
   "execution_count": 24,
   "metadata": {},
   "outputs": [
    {
     "data": {
      "text/plain": [
       "9016"
      ]
     },
     "execution_count": 24,
     "metadata": {},
     "output_type": "execute_result"
    }
   ],
   "source": [
    "sys.getsizeof(merge_sort(duizend))"
   ]
  },
  {
   "cell_type": "code",
   "execution_count": 25,
   "metadata": {},
   "outputs": [
    {
     "data": {
      "text/plain": [
       "87616"
      ]
     },
     "execution_count": 25,
     "metadata": {},
     "output_type": "execute_result"
    }
   ],
   "source": [
    "sys.getsizeof(merge_sort(tien_duizend))"
   ]
  },
  {
   "cell_type": "code",
   "execution_count": 26,
   "metadata": {},
   "outputs": [
    {
     "data": {
      "text/plain": [
       "824456"
      ]
     },
     "execution_count": 26,
     "metadata": {},
     "output_type": "execute_result"
    }
   ],
   "source": [
    "sys.getsizeof(merge_sort(honderd_duizend))"
   ]
  },
  {
   "cell_type": "code",
   "execution_count": 27,
   "metadata": {},
   "outputs": [
    {
     "data": {
      "text/plain": [
       "8697456"
      ]
     },
     "execution_count": 27,
     "metadata": {},
     "output_type": "execute_result"
    }
   ],
   "source": [
    "sys.getsizeof(merge_sort(miljoen))"
   ]
  },
  {
   "cell_type": "markdown",
   "metadata": {},
   "source": [
    "#### Ontwerpen\n",
    "Hier zijn mijn ontwerpen die ik gemaakt heb, hier is te zien hoe ik de werkload zou verdelen over de verschillende threads.\n",
    "Elke hokje is één thread, als er iets niet in een hokje staad betekend dat dat gedaan wordt door de eerste thread.\n",
    "De complexiteit van het merge sort algoritme is: O(nlogn)\n",
    "\n",
    "bron van de complexiteit: https://softwareengineering.stackexchange.com/questions/297160/why-is-mergesort-olog-n#:~:text=The%20complexity%20of%20merge%20sort,and%20NOT%20O(logn).&text=The%20divide%20step%20computes%20the,for%20even%20n)%20elements%20each.\n",
    "Er is geen bron voor de ontwerpen: ik heb het zelf bedacht"
   ]
  },
  {
   "cell_type": "markdown",
   "metadata": {},
   "source": [
    "![merge](ontwerpen/merge.png)\n",
    "\n",
    "Bij één thread kan er niks verdeeld worden, daarom zijn hier geen vakjes getekend en wordt alles door één thread gedaan"
   ]
  },
  {
   "cell_type": "markdown",
   "metadata": {},
   "source": [
    "![merge2](ontwerpen/merge2.png)\n",
    "\n",
    "Bij twee threads kan je de werkload eerlijk verdelen over de twee threads, maar de eerste thread moet wel wachten op de tweede thread daarom zal hier amper/geen tijd gewonnen worden.\n",
    "Aantal threads: 2 \n",
    "Size per thread: n/2 (n = aantal getallen in rij)"
   ]
  },
  {
   "cell_type": "markdown",
   "metadata": {},
   "source": [
    "![merge4](ontwerpen/merge4.png)\n",
    "\n",
    "Aantal threads: 4 \n",
    "Size per thread: n/4 (n = aantal getallen in rij)"
   ]
  },
  {
   "cell_type": "markdown",
   "metadata": {},
   "source": [
    "![merge8](ontwerpen/merge8.png)\n",
    "\n",
    "Aantal threads: 8 \n",
    "Size per thread: n/8 (n = aantal getallen in rij)"
   ]
  },
  {
   "cell_type": "markdown",
   "metadata": {},
   "source": [
    "### Conclusie \n",
    "Het maakt weinig verschil in hoeveel threads je gebruikt bij deze opdracht, de verschillen zijn zo klein dat het niet te merken is voor de mens. Deze uitkomst vond ik erg apart, ik had namelijk verwacht dat 2 keer de kracht 2 keer zo snel zou gaan, niet dus. Daarom heb ik wat onderzoek gaan doen en ben ik deze video tegengekomen: https://www.youtube.com/watch?v=Obt-vMVdM8s.\n",
    "In deze video wordt in de eerste 10 minuten veel uitgelegd over de GIL, na 10 minuten was ik mijn concentratie al weer kwijt en ging ik maar een website zoeken waar de GIL sneller en of beter wordt uitgelegd. Toen kwam ik op deze site: https://realpython.com/python-gil/. Daar blijkt al snel waarom de GIL is toegevoegd, namelijk voor memory management. Maar met die oplossing kwamen ook een paar nadelen, namelijk dat Python nu niet echt meer geschikt is om parallel taken uit te voeren"
   ]
  }
 ],
 "metadata": {
  "kernelspec": {
   "display_name": "Python 3",
   "language": "python",
   "name": "python3"
  },
  "language_info": {
   "codemirror_mode": {
    "name": "ipython",
    "version": 3
   },
   "file_extension": ".py",
   "mimetype": "text/x-python",
   "name": "python",
   "nbconvert_exporter": "python",
   "pygments_lexer": "ipython3",
   "version": "3.8.0"
  }
 },
 "nbformat": 4,
 "nbformat_minor": 4
}
