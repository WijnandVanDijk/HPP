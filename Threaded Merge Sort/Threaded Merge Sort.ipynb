{
 "cells": [
  {
   "cell_type": "markdown",
   "metadata": {},
   "source": [
    "### De imports"
   ]
  },
  {
   "cell_type": "code",
   "execution_count": 1,
   "metadata": {},
   "outputs": [],
   "source": [
    "import multiprocessing\n",
    "import matplotlib.pyplot as plt\n",
    "import timeit\n",
    "import numpy as np\n",
    "import sys"
   ]
  },
  {
   "cell_type": "markdown",
   "metadata": {},
   "source": [
    "### merge_sort\n",
    "In deze functie word de ingevoerde lijst van getallen in twee gesplitst en daarna wordt de merge_lists functie op die twee halve lijsten aangeroepen. Meer over de merge_lists functie hieronder."
   ]
  },
  {
   "cell_type": "code",
   "execution_count": 2,
   "metadata": {},
   "outputs": [],
   "source": [
    "def merge_sort(lijst):\n",
    "    if len(lijst) <= 1:\n",
    "        return lijst\n",
    "    else: \n",
    "        midden = int(len(lijst)/2)\n",
    "        links = merge_sort(lijst[:midden])\n",
    "        rechts = merge_sort(lijst[midden:])\n",
    "        \n",
    "    return merge_lists(links, rechts)"
   ]
  },
  {
   "cell_type": "markdown",
   "metadata": {},
   "source": [
    "### merge_lists\n",
    "Hier worden de lijsten gesorteerd, ..."
   ]
  },
  {
   "cell_type": "code",
   "execution_count": 3,
   "metadata": {},
   "outputs": [],
   "source": [
    "def merge_lists(links,rechts):\n",
    "    l = 0 # teller voor linker helft, daarom l gekozen\n",
    "    r = 0 # teller voor rechts\n",
    "    resultaat = []\n",
    "    while l < len(links) and r < len(rechts):\n",
    "        if links[l] <= rechts[r]:\n",
    "            resultaat.append(links[l])\n",
    "            l += 1\n",
    "        else:\n",
    "            resultaat.append(rechts[r])\n",
    "            r += 1\n",
    "    while l < len(links):\n",
    "        resultaat.append(links[l])\n",
    "        l += 1\n",
    "        #print(resultaat) # als je het stap voor stap wilt zien haal de '#' weg.\n",
    "    while r < len(rechts):\n",
    "        resultaat.append(rechts[r])\n",
    "        r += 1\n",
    "        #print(resultaat)\n",
    "    resultaat += links[l:]\n",
    "    resultaat += rechts[r:]\n",
    "    return resultaat"
   ]
  },
  {
   "cell_type": "markdown",
   "metadata": {},
   "source": [
    "### De output\n",
    "Hier wordt de merge_sort functie aangeroepen met als parameter de lijst van getallen, ook wordt hier de output weergegeven."
   ]
  },
  {
   "cell_type": "code",
   "execution_count": 4,
   "metadata": {},
   "outputs": [
    {
     "name": "stdout",
     "output_type": "stream",
     "text": [
      "[3, 7, 8, 11, 12, 15, 24, 38]\n"
     ]
    }
   ],
   "source": [
    "lijst = [24, 8, 15, 3, 38, 12, 11, 7]\n",
    "print(merge_sort(lijst))"
   ]
  },
  {
   "cell_type": "markdown",
   "metadata": {},
   "source": [
    "### Test\n",
    "Hier test ik of het merge sort algoritme het goed gesorteerd heeft, dat doe ik door het te vergelijken met de ingebouwde sorteer functie van Python."
   ]
  },
  {
   "cell_type": "code",
   "execution_count": 5,
   "metadata": {},
   "outputs": [
    {
     "data": {
      "text/plain": [
       "True"
      ]
     },
     "execution_count": 5,
     "metadata": {},
     "output_type": "execute_result"
    }
   ],
   "source": [
    "sorted(lijst) == merge_sort(lijst)"
   ]
  },
  {
   "cell_type": "markdown",
   "metadata": {},
   "source": [
    "# Grote lijsten\n",
    "Hier gaan we het algoritme testen op grotere lijsten van duizend, tien duizend, dertig duizend en één miljoen."
   ]
  },
  {
   "cell_type": "code",
   "execution_count": 6,
   "metadata": {},
   "outputs": [],
   "source": [
    "duizend = np.random.randint(1, 1000000, size=1001)\n",
    "tien_duizend = np.random.randint(1, 1000000, size=10001)\n",
    "dertig_duizend = np.random.randint(1, 1000000, size=100001)\n",
    "miljoen = np.random.randint(1, 1000000, size=1000001)\n",
    "duizend = duizend.tolist()\n",
    "tien_duizend = tien_duizend.tolist()\n",
    "dertig_duizend = dertig_duizend.tolist()\n",
    "miljoen = miljoen.tolist()"
   ]
  },
  {
   "cell_type": "markdown",
   "metadata": {},
   "source": [
    "### Threads\n",
    "Hier worden de functies van hierboven uitgevoerd door verschillende hoeveelheden threads, met als doel om te zien of er veel verschil in de run time zit"
   ]
  },
  {
   "cell_type": "code",
   "execution_count": 7,
   "metadata": {},
   "outputs": [],
   "source": [
    "def thread_test(functie):\n",
    "\n",
    "    threads = [1,2,4,8]\n",
    "\n",
    "    for thread_count in threads:\n",
    "        pool = multiprocessing.Pool(thread_count)\n",
    "        print(pool)\n",
    "\n",
    "        results = [pool.apply_async(functie)]\n",
    "        print(results)\n",
    "        %timeit functie"
   ]
  },
  {
   "cell_type": "code",
   "execution_count": 8,
   "metadata": {},
   "outputs": [
    {
     "name": "stdout",
     "output_type": "stream",
     "text": [
      "<multiprocessing.pool.Pool state=RUN pool_size=1>\n",
      "[<multiprocessing.pool.ApplyResult object at 0x0000022CCCCB1940>]\n",
      "19.8 ns ± 0.206 ns per loop (mean ± std. dev. of 7 runs, 100000000 loops each)\n",
      "<multiprocessing.pool.Pool state=RUN pool_size=2>\n",
      "[<multiprocessing.pool.ApplyResult object at 0x0000022CFEDE3F70>]\n",
      "19.6 ns ± 0.359 ns per loop (mean ± std. dev. of 7 runs, 100000000 loops each)\n",
      "<multiprocessing.pool.Pool state=RUN pool_size=4>\n",
      "[<multiprocessing.pool.ApplyResult object at 0x0000022CFEDEFF40>]\n",
      "20.2 ns ± 0.848 ns per loop (mean ± std. dev. of 7 runs, 10000000 loops each)\n",
      "<multiprocessing.pool.Pool state=RUN pool_size=8>\n",
      "[<multiprocessing.pool.ApplyResult object at 0x0000022CFEDE3AF0>]\n",
      "19.7 ns ± 0.33 ns per loop (mean ± std. dev. of 7 runs, 10000000 loops each)\n"
     ]
    }
   ],
   "source": [
    "thread_test(merge_sort(lijst))"
   ]
  },
  {
   "cell_type": "code",
   "execution_count": 9,
   "metadata": {},
   "outputs": [
    {
     "name": "stdout",
     "output_type": "stream",
     "text": [
      "<multiprocessing.pool.Pool state=RUN pool_size=1>\n",
      "[<multiprocessing.pool.ApplyResult object at 0x0000022CFEDE3FA0>]\n",
      "20.1 ns ± 0.493 ns per loop (mean ± std. dev. of 7 runs, 100000000 loops each)\n",
      "<multiprocessing.pool.Pool state=RUN pool_size=2>\n",
      "[<multiprocessing.pool.ApplyResult object at 0x0000022CFEDEFD30>]\n",
      "19.8 ns ± 0.607 ns per loop (mean ± std. dev. of 7 runs, 100000000 loops each)\n",
      "<multiprocessing.pool.Pool state=RUN pool_size=4>\n",
      "[<multiprocessing.pool.ApplyResult object at 0x0000022CFEE081F0>]\n",
      "20.4 ns ± 0.801 ns per loop (mean ± std. dev. of 7 runs, 10000000 loops each)\n",
      "<multiprocessing.pool.Pool state=RUN pool_size=8>\n",
      "[<multiprocessing.pool.ApplyResult object at 0x0000022CFEE08820>]\n",
      "19.9 ns ± 0.804 ns per loop (mean ± std. dev. of 7 runs, 10000000 loops each)\n"
     ]
    }
   ],
   "source": [
    "thread_test(merge_sort(duizend))"
   ]
  },
  {
   "cell_type": "code",
   "execution_count": 10,
   "metadata": {},
   "outputs": [
    {
     "name": "stdout",
     "output_type": "stream",
     "text": [
      "<multiprocessing.pool.Pool state=RUN pool_size=1>\n",
      "[<multiprocessing.pool.ApplyResult object at 0x0000022CFEDFBE20>]\n",
      "20.1 ns ± 0.98 ns per loop (mean ± std. dev. of 7 runs, 10000000 loops each)\n",
      "<multiprocessing.pool.Pool state=RUN pool_size=2>\n",
      "[<multiprocessing.pool.ApplyResult object at 0x0000022CFEDE3C70>]\n",
      "20.2 ns ± 0.832 ns per loop (mean ± std. dev. of 7 runs, 10000000 loops each)\n",
      "<multiprocessing.pool.Pool state=RUN pool_size=4>\n",
      "[<multiprocessing.pool.ApplyResult object at 0x0000022CFE9DA460>]\n",
      "19.5 ns ± 0.723 ns per loop (mean ± std. dev. of 7 runs, 10000000 loops each)\n",
      "<multiprocessing.pool.Pool state=RUN pool_size=8>\n",
      "[<multiprocessing.pool.ApplyResult object at 0x0000022CFEDF9A90>]\n",
      "19.2 ns ± 0.488 ns per loop (mean ± std. dev. of 7 runs, 10000000 loops each)\n"
     ]
    }
   ],
   "source": [
    "thread_test(merge_sort(tien_duizend))"
   ]
  },
  {
   "cell_type": "code",
   "execution_count": 11,
   "metadata": {},
   "outputs": [
    {
     "name": "stdout",
     "output_type": "stream",
     "text": [
      "<multiprocessing.pool.Pool state=RUN pool_size=1>\n",
      "[<multiprocessing.pool.ApplyResult object at 0x0000022CCCC93EB0>]\n",
      "20.1 ns ± 0.683 ns per loop (mean ± std. dev. of 7 runs, 10000000 loops each)\n",
      "<multiprocessing.pool.Pool state=RUN pool_size=2>\n",
      "[<multiprocessing.pool.ApplyResult object at 0x0000022CFEDEF550>]\n",
      "19.9 ns ± 0.438 ns per loop (mean ± std. dev. of 7 runs, 100000000 loops each)\n",
      "<multiprocessing.pool.Pool state=RUN pool_size=4>\n",
      "[<multiprocessing.pool.ApplyResult object at 0x0000022CFEE04670>]\n",
      "19.3 ns ± 0.567 ns per loop (mean ± std. dev. of 7 runs, 10000000 loops each)\n",
      "<multiprocessing.pool.Pool state=RUN pool_size=8>\n",
      "[<multiprocessing.pool.ApplyResult object at 0x0000022CFEE04CA0>]\n",
      "20.2 ns ± 0.672 ns per loop (mean ± std. dev. of 7 runs, 10000000 loops each)\n"
     ]
    }
   ],
   "source": [
    "thread_test(merge_sort(dertig_duizend))"
   ]
  },
  {
   "cell_type": "code",
   "execution_count": 12,
   "metadata": {},
   "outputs": [
    {
     "name": "stdout",
     "output_type": "stream",
     "text": [
      "<multiprocessing.pool.Pool state=RUN pool_size=1>\n",
      "[<multiprocessing.pool.ApplyResult object at 0x0000022CCCCB1610>]\n",
      "20 ns ± 0.46 ns per loop (mean ± std. dev. of 7 runs, 100000000 loops each)\n",
      "<multiprocessing.pool.Pool state=RUN pool_size=2>\n",
      "[<multiprocessing.pool.ApplyResult object at 0x0000022CFEDEF8E0>]\n",
      "19.8 ns ± 0.371 ns per loop (mean ± std. dev. of 7 runs, 100000000 loops each)\n",
      "<multiprocessing.pool.Pool state=RUN pool_size=4>\n",
      "[<multiprocessing.pool.ApplyResult object at 0x0000022CFEDE3D30>]\n",
      "20.3 ns ± 0.689 ns per loop (mean ± std. dev. of 7 runs, 10000000 loops each)\n",
      "<multiprocessing.pool.Pool state=RUN pool_size=8>\n",
      "[<multiprocessing.pool.ApplyResult object at 0x0000022CFEDEFC10>]\n",
      "19.3 ns ± 0.547 ns per loop (mean ± std. dev. of 7 runs, 10000000 loops each)\n"
     ]
    }
   ],
   "source": [
    "thread_test(merge_sort(miljoen))"
   ]
  },
  {
   "cell_type": "markdown",
   "metadata": {},
   "source": [
    "### Grafiek\n",
    "hier is een grafiek gemaakt met als invoer de tijden van de test hierboven, ik heb getallen ingevuld die ik als uitslag krijg toen in het runde, deze getallen verschillen elke keer, daarom is deze grafiek niet altijd correct. De data die in de grafiek weergegeven is zijn de resulaten van de tests hierboven."
   ]
  },
  {
   "cell_type": "code",
   "execution_count": 27,
   "metadata": {},
   "outputs": [],
   "source": [
    "def plot_maken(tijden, tijden2, tijden3, tijden4, tijden5):\n",
    "\n",
    "    plt.plot([1,2,4,8], tijden)\n",
    "    plt.plot([1,2,4,8], tijden2)\n",
    "    plt.plot([1,2,4,8], tijden3)\n",
    "    plt.plot([1,2,4,8], tijden4)\n",
    "    plt.plot([1,2,4,8], tijden5)\n",
    "    plt.ylabel('Nanoseconde')\n",
    "    plt.xlabel('Threads')\n",
    "    plt.title('tijdsduur met verschillende hoeveelheden threads')\n",
    "    plt.legend(['8', '1000', '10000', '30000', '1000000'], loc='upper right')"
   ]
  },
  {
   "cell_type": "code",
   "execution_count": 28,
   "metadata": {},
   "outputs": [
    {
     "data": {
      "image/png": "[encoded data removed]",
      "text/plain": [
       "<Figure size 432x288 with 1 Axes>"
      ]
     },
     "metadata": {
      "needs_background": "light"
     },
     "output_type": "display_data"
    }
   ],
   "source": [
    "plot_maken([19.8, 19.6, 20.2, 19.7], [20.1, 19.8, 20.4, 19.9], [20.1, 20.2, 19.5, 19.2], [20.1, 19.9, 19.3, 20.2], [20, 19.8, 20.3, 19.3])"
   ]
  },
  {
   "cell_type": "markdown",
   "metadata": {},
   "source": [
    "### Hoeveel ruimte neemt het in?\n",
    "Hier gaan we kijken hoeveel ruimte de functie inneemt met verschillende lengte lijsten. We kijken naar het aantal Bytes dat het geheugen gebruikt."
   ]
  },
  {
   "cell_type": "code",
   "execution_count": 29,
   "metadata": {},
   "outputs": [
    {
     "data": {
      "text/plain": [
       "9016"
      ]
     },
     "execution_count": 29,
     "metadata": {},
     "output_type": "execute_result"
    }
   ],
   "source": [
    "sys.getsizeof(merge_sort(duizend))"
   ]
  },
  {
   "cell_type": "code",
   "execution_count": 30,
   "metadata": {},
   "outputs": [
    {
     "data": {
      "text/plain": [
       "87616"
      ]
     },
     "execution_count": 30,
     "metadata": {},
     "output_type": "execute_result"
    }
   ],
   "source": [
    "sys.getsizeof(merge_sort(tien_duizend))"
   ]
  },
  {
   "cell_type": "code",
   "execution_count": 31,
   "metadata": {},
   "outputs": [
    {
     "data": {
      "text/plain": [
       "824456"
      ]
     },
     "execution_count": 31,
     "metadata": {},
     "output_type": "execute_result"
    }
   ],
   "source": [
    "sys.getsizeof(merge_sort(dertig_duizend))"
   ]
  },
  {
   "cell_type": "code",
   "execution_count": 32,
   "metadata": {},
   "outputs": [
    {
     "data": {
      "text/plain": [
       "8697456"
      ]
     },
     "execution_count": 32,
     "metadata": {},
     "output_type": "execute_result"
    }
   ],
   "source": [
    "sys.getsizeof(merge_sort(miljoen))"
   ]
  },
  {
   "cell_type": "markdown",
   "metadata": {},
   "source": [
    "#### Ontwerpen\n",
    "Hier zijn mijn ontwerpen die ik gemaakt heb, hier is te zien hoe ik de werkload zou verdelen over de verschillende threads.\n",
    "Elke hokje is één thread, als er iets niet in een hokje staad betekend dat dat gedaan wordt door de eerste thread.\n",
    "De complexiteit van het merge sort algoritme is: O(nlogn)\n",
    "\n",
    "bron van de complexiteit: https://softwareengineering.stackexchange.com/questions/297160/why-is-mergesort-olog-n#:~:text=The%20complexity%20of%20merge%20sort,and%20NOT%20O(logn).&text=The%20divide%20step%20computes%20the,for%20even%20n)%20elements%20each.\n",
    "Er is geen bron voor de ontwerpen: ik heb het zelf bedacht"
   ]
  },
  {
   "cell_type": "markdown",
   "metadata": {},
   "source": [
    "![merge](ontwerpen/merge.png)\n",
    "\n",
    "Bij één thread kan er niks verdeeld worden, daarom zijn hier geen vakjes getekend en wordt alles door één thread gedaan"
   ]
  },
  {
   "cell_type": "markdown",
   "metadata": {},
   "source": [
    "![merge2](ontwerpen/merge2.png)\n",
    "\n",
    "Bij twee threads kan je de werkload eerlijk verdelen over de twee threads, maar de eerste thread moet wel wachten op de tweede thread daarom zal hier amper/geen tijd gewonnen worden.\n",
    "Aantal threads: 2 \n",
    "Size per thread: n/2 (n = aantal getallen in rij)"
   ]
  },
  {
   "cell_type": "markdown",
   "metadata": {},
   "source": [
    "![merge4](ontwerpen/merge4.png)\n",
    "\n",
    "Aantal threads: 4 \n",
    "Size per thread: n/4 (n = aantal getallen in rij)"
   ]
  },
  {
   "cell_type": "markdown",
   "metadata": {},
   "source": [
    "![merge8](ontwerpen/merge8.png)\n",
    "\n",
    "Aantal threads: 8 \n",
    "Size per thread: n/8 (n = aantal getallen in rij)"
   ]
  },
  {
   "cell_type": "markdown",
   "metadata": {},
   "source": [
    "### Conclusie \n",
    "Het maakt weinig verschil in hoeveel threads je gebruikt bij deze opdracht, de verschillen zijn zo klein dat het niet te merken is voor de mens. Deze uitkomst vond ik erg apart, ik had namelijk verwacht dat 2 keer de kracht 2 keer zo snel zou gaan, niet dus. Daarom heb ik wat onderzoek gaan doen en ben ik deze video tegengekomen: https://www.youtube.com/watch?v=Obt-vMVdM8s.\n",
    "In deze video wordt in de eerste 10 minuten veel uitgelegd over de GIL, na 10 minuten was ik mijn concentratie al weer kwijt en ging ik maar een website zoeken waar de GIL sneller en of beter wordt uitgelegd. Toen kwam ik op deze site: https://realpython.com/python-gil/. Daar blijkt al snel waarom de GIL is toegevoegd, namelijk voor memory management. Maar met die oplossing kwamen ook een paar nadelen, namelijk dat Python nu niet echt meer geschikt is om parallel taken uit te voeren"
   ]
  }
 ],
 "metadata": {
  "kernelspec": {
   "display_name": "Python 3",
   "language": "python",
   "name": "python3"
  },
  "language_info": {
   "codemirror_mode": {
    "name": "ipython",
    "version": 3
   },
   "file_extension": ".py",
   "mimetype": "text/x-python",
   "name": "python",
   "nbconvert_exporter": "python",
   "pygments_lexer": "ipython3",
   "version": "3.8.0"
  }
 },
 "nbformat": 4,
 "nbformat_minor": 4
}
