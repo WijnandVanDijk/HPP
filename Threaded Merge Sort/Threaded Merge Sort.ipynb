{
 "cells": [
  {
   "cell_type": "code",
   "execution_count": 31,
   "metadata": {},
   "outputs": [],
   "source": [
    "def mergeSort(lijst):\n",
    "    if len(lijst) > 1:\n",
    "        midden = len(lijst)//2\n",
    " \n",
    "        Links = lijst[:midden]\n",
    "\n",
    "        Rechts = lijst[midden:]\n",
    " \n",
    "        i = j = k = 0\n",
    " \n",
    "        while i < len(Links) and j < len(Rechts):\n",
    "            if Links[i] < Rechts[j]:\n",
    "                lijst[k] = Links[i]\n",
    "                i += 1\n",
    "            else:\n",
    "                lijst[k] = Rechts[j]\n",
    "                j += 1\n",
    "            k += 1\n",
    "        \n",
    "        mergeSort(Links)\n",
    " \n",
    "        mergeSort(Rechts)\n",
    "\n",
    "def printList(lijst):\n",
    "    for i in range(len(lijst)):\n",
    "        print(lijst[i], end=\" \")"
   ]
  },
  {
   "cell_type": "code",
   "execution_count": 32,
   "metadata": {},
   "outputs": [
    {
     "name": "stdout",
     "output_type": "stream",
     "text": [
      "eerst:\n",
      "24 8 15 3 38 12 11 7 nu:\n",
      "24 8 15 3 38 12 11 7 "
     ]
    }
   ],
   "source": [
    "def ouput_print():\n",
    "    lijst = [24, 8, 15, 3, 38, 12, 11, 7]\n",
    "    print('eerst:',)\n",
    "    printList(lijst)\n",
    "    mergeSort(lijst)\n",
    "    print('nu:')\n",
    "    printList(lijst)\n",
    "    \n",
    "ouput_print()"
   ]
  },
  {
   "cell_type": "code",
   "execution_count": null,
   "metadata": {},
   "outputs": [],
   "source": []
  }
 ],
 "metadata": {
  "kernelspec": {
   "display_name": "Python 3",
   "language": "python",
   "name": "python3"
  },
  "language_info": {
   "codemirror_mode": {
    "name": "ipython",
    "version": 3
   },
   "file_extension": ".py",
   "mimetype": "text/x-python",
   "name": "python",
   "nbconvert_exporter": "python",
   "pygments_lexer": "ipython3",
   "version": "3.8.0"
  }
 },
 "nbformat": 4,
 "nbformat_minor": 4
}
