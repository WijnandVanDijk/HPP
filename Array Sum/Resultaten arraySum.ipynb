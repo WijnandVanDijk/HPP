{
 "cells": [
  {
   "cell_type": "markdown",
   "metadata": {},
   "source": [
    "# Resultaten\n",
    "In dit notebook staan de resulaten van het optellen van meerdere arrays met verschillende hoeveelheden threads."
   ]
  },
  {
   "cell_type": "code",
   "execution_count": 1,
   "metadata": {},
   "outputs": [],
   "source": [
    "import matplotlib.pyplot as plt\n",
    "import pandas as pd"
   ]
  },
  {
   "cell_type": "code",
   "execution_count": 2,
   "metadata": {},
   "outputs": [],
   "source": [
    "Tijden1 = [0.000047,0.000326,0.004237,0.027813]\n",
    "Tijden2 = [0.000157,0.000294,0.003530,0.026036]\n",
    "Tijden4 = [0.000515,0.000351,0.002425,0.026214] \n",
    "Tijden8 = [0.000175,0.000396,0.002584,0.024395]\n",
    "Lengte = ['10k','100k','1m','10m']"
   ]
  },
  {
   "cell_type": "code",
   "execution_count": 3,
   "metadata": {},
   "outputs": [],
   "source": [
    "def grafiek():\n",
    "    plt.plot(Lengte, Tijden8, label = \"8 Threads\")\n",
    "    plt.plot(Lengte, Tijden4, label = \"4 Threads\")\n",
    "    plt.plot(Lengte, Tijden2, label = \"2 Threads\")\n",
    "    plt.plot(Lengte, Tijden1, label = \"1 Thread\")\n",
    "    plt.xlabel('Lengte lijst')\n",
    "    plt.ylabel('Duur in seconden')\n",
    "    plt.title('tijdsduur met verschillende hoeveelheden threads')\n",
    "    plt.legend()"
   ]
  },
  {
   "cell_type": "code",
   "execution_count": 4,
   "metadata": {},
   "outputs": [
    {
     "data": {
      "image/png": "[encoded data removed]",
      "text/plain": [
       "<Figure size 432x288 with 1 Axes>"
      ]
     },
     "metadata": {
      "needs_background": "light"
     },
     "output_type": "display_data"
    }
   ],
   "source": [
    "grafiek()"
   ]
  },
  {
   "cell_type": "markdown",
   "metadata": {},
   "source": [
    "### Conclusie tijden\n",
    "Je ziet in de grafiek dat er niet een 'groot' verschil is tussen de tijden. dat heeft misschien wel te maken met dat het ook even duurt voordat de threads aangemaakt zijn. Daarom is 8 threads niet het snelste op de kleinere lijsten en wel op die van 10 miljoen. Naarmate de lijsten nog groter worden is het handig om meerdere threads te gaan gebruiken, maar met deze grotes is het niet nodig."
   ]
  },
  {
   "cell_type": "markdown",
   "metadata": {},
   "source": [
    "### Aangepaste code \n",
    "DEZE CODE IS OVERGETYPT VAN MIJN VIRTUAL MACHINE OMDAT IK HET NIET KON COPY PASTEN, DAAROM IS ER MISSCHIEN EEN KANS DAT ER EEN TYP FOUT IN ZIT. ALS DAT HET GEVAL IS VERBETER DAN AUB DE FOUT EN RUN HET OPNIEUW\n",
    "\n",
    "compile met 'gcc -fopenmp arraySum.c -o arraySum"
   ]
  },
  {
   "cell_type": "code",
   "execution_count": 5,
   "metadata": {},
   "outputs": [
    {
     "data": {
      "text/plain": [
       "'\\n/* arraySum.c uses an array to sum the values in an input file,\\n *  whose name is specified on the command-line.\\n * Huib Aldewereld, HU, HPP, 2020\\n */\\n\\n#include <stdio.h>      /* I/O stuff */\\n#include <stdlib.h>     /* calloc, etc. */\\n#include <omp.h>\\n\\nvoid readArray(char * fileName, double ** a, int * n);\\ndouble sumArray(double * a, int numValues) ;\\n\\nint main(int argc, char * argv[])\\n{\\n  int  howMany;\\n  double sum;\\n  double * a;\\n  double start;\\n  double end;\\n\\n  if (argc != 2) {\\n    fprintf(stderr, \"\\n*** Usage: arraySum <inputFile>\\n\\n\");\\n    exit(1);\\n  }\\n  \\n  #pragma omp master\\n  \\n  readArray(argv[1], &a, &howMany);\\n  \\n  start = omp_get_wtime();\\n  sum = sumArray(a, howMany);\\n  end = omp_get_wtime();\\n  printf(\"elapsed time = %f sec\\n\", end - start);\\n  \\n  printf(\"The sum of the values in the input file \\'%s\\' is %g\\n\",\\n           argv[1], sum);\\n\\n  free(a);\\n\\n  return 0;\\n}\\n\\n/* readArray fills an array with values from a file.\\n * Receive: fileName, a char*,\\n *          a, the address of a pointer to an array,\\n *          n, the address of an int.\\n * PRE: fileName contains N, followed by N double values.\\n * POST: a points to a dynamically allocated array\\n *        containing the N values from fileName\\n *        and n == N.\\n */\\n\\nvoid readArray(char * fileName, double ** a, int * n) {\\n  int count, howMany;\\n  double * tempA;\\n  FILE * fin;\\n\\n  fin = fopen(fileName, \"r\");\\n  if (fin == NULL) {\\n    fprintf(stderr, \"\\n*** Unable to open input file \\'%s\\'\\n\\n\",\\n                     fileName);\\n    exit(1);\\n  }\\n\\n  fscanf(fin, \"%d\", &howMany);\\n  tempA = calloc(howMany, sizeof(double));\\n  if (tempA == NULL) {\\n    fprintf(stderr, \"\\n*** Unable to allocate %d-length array\",\\n                     howMany);\\n    exit(1);\\n  }\\n\\n  for (count = 0; count < howMany; count++)\\n   fscanf(fin, \"%lf\", &tempA[count]);\\n\\n  fclose(fin);\\n\\n  *n = howMany;\\n  *a = tempA;\\n}\\n\\n/* sumArray sums the values in an array of doubles.\\n * Receive: a, a pointer to the head of an array;\\n *          numValues, the number of values in the array.\\n * Return: the sum of the values in the array.\\n */\\n\\ndouble sumArray(double * a, int numValues) {\\n  int i;\\n  double result = 0.0;\\n  omp_set_num_threads(8); // hoeveel threads het gebruikt\\n  #pragma omp parallel for private(i) reduction(+:result)\\n  for (i = 0; i < numValues; i++) {\\n    result += a[i];\\n  }\\n\\n  return result;\\n}\\n'"
      ]
     },
     "execution_count": 5,
     "metadata": {},
     "output_type": "execute_result"
    }
   ],
   "source": [
    "\"\"\"\n",
    "/* arraySum.c uses an array to sum the values in an input file,\n",
    " *  whose name is specified on the command-line.\n",
    " * Huib Aldewereld, HU, HPP, 2020\n",
    " */\n",
    "\n",
    "#include <stdio.h>      /* I/O stuff */\n",
    "#include <stdlib.h>     /* calloc, etc. */\n",
    "#include <omp.h>\n",
    "\n",
    "void readArray(char * fileName, double ** a, int * n);\n",
    "double sumArray(double * a, int numValues) ;\n",
    "\n",
    "int main(int argc, char * argv[])\n",
    "{\n",
    "  int  howMany;\n",
    "  double sum;\n",
    "  double * a;\n",
    "  double start;\n",
    "  double end;\n",
    "\n",
    "  if (argc != 2) {\n",
    "    fprintf(stderr, \"\\n*** Usage: arraySum <inputFile>\\n\\n\");\n",
    "    exit(1);\n",
    "  }\n",
    "  \n",
    "#pragma omp master\n",
    "  \n",
    "  readArray(argv[1], &a, &howMany);\n",
    "  \n",
    "  start = omp_get_wtime();\n",
    "  sum = sumArray(a, howMany);\n",
    "  end = omp_get_wtime();\n",
    "  printf(\"elapsed time = %f sec\\n\", end - start);\n",
    "  \n",
    "  printf(\"The sum of the values in the input file '%s' is %g\\n\",\n",
    "           argv[1], sum);\n",
    "\n",
    "  free(a);\n",
    "\n",
    "  return 0;\n",
    "}\n",
    "\n",
    "/* readArray fills an array with values from a file.\n",
    " * Receive: fileName, a char*,\n",
    " *          a, the address of a pointer to an array,\n",
    " *          n, the address of an int.\n",
    " * PRE: fileName contains N, followed by N double values.\n",
    " * POST: a points to a dynamically allocated array\n",
    " *        containing the N values from fileName\n",
    " *        and n == N.\n",
    " */\n",
    "\n",
    "void readArray(char * fileName, double ** a, int * n) {\n",
    "  int count, howMany;\n",
    "  double * tempA;\n",
    "  FILE * fin;\n",
    "\n",
    "  fin = fopen(fileName, \"r\");\n",
    "  if (fin == NULL) {\n",
    "    fprintf(stderr, \"\\n*** Unable to open input file '%s'\\n\\n\",\n",
    "                     fileName);\n",
    "    exit(1);\n",
    "  }\n",
    "\n",
    "  fscanf(fin, \"%d\", &howMany);\n",
    "  tempA = calloc(howMany, sizeof(double));\n",
    "  if (tempA == NULL) {\n",
    "    fprintf(stderr, \"\\n*** Unable to allocate %d-length array\",\n",
    "                     howMany);\n",
    "    exit(1);\n",
    "  }\n",
    "\n",
    "  for (count = 0; count < howMany; count++)\n",
    "   fscanf(fin, \"%lf\", &tempA[count]);\n",
    "\n",
    "  fclose(fin);\n",
    "\n",
    "  *n = howMany;\n",
    "  *a = tempA;\n",
    "}\n",
    "\n",
    "/* sumArray sums the values in an array of doubles.\n",
    " * Receive: a, a pointer to the head of an array;\n",
    " *          numValues, the number of values in the array.\n",
    " * Return: the sum of the values in the array.\n",
    " */\n",
    "\n",
    "double sumArray(double * a, int numValues) {\n",
    "  int i;\n",
    "  double result = 0.0;\n",
    "  omp_set_num_threads(8); // hoeveel threads het gebruikt\n",
    "#pragma omp parallel for private(i) reduction(+:result)\n",
    "  for (i = 0; i < numValues; i++) {\n",
    "    result += a[i];\n",
    "  }\n",
    "\n",
    "  return result;\n",
    "}\n",
    "\"\"\""
   ]
  },
  {
   "cell_type": "code",
   "execution_count": 6,
   "metadata": {},
   "outputs": [
    {
     "name": "stdout",
     "output_type": "stream",
     "text": [
      "  Lijst      Duur\n",
      "0   10k  0.000047\n",
      "1  100k  0.000326\n",
      "2    1m  0.004237\n",
      "3   10m  0.027813\n"
     ]
    }
   ],
   "source": [
    "Threads_1 = {'Lijst': ['10k','100k','1m','10m'],\n",
    "        'Duur': Tijden1,\n",
    "        }\n",
    "\n",
    "Threads_1 = pd.DataFrame(Threads_1, columns = ['Lijst', 'Duur'])\n",
    "\n",
    "print(Threads_1)"
   ]
  },
  {
   "cell_type": "code",
   "execution_count": 7,
   "metadata": {},
   "outputs": [
    {
     "name": "stdout",
     "output_type": "stream",
     "text": [
      "  Lijst      Duur\n",
      "0   10k  0.000157\n",
      "1  100k  0.000294\n",
      "2    1m  0.003530\n",
      "3   10m  0.026036\n"
     ]
    }
   ],
   "source": [
    "Threads_2 = {'Lijst': ['10k','100k','1m','10m'],\n",
    "        'Duur': Tijden2,\n",
    "        }\n",
    "\n",
    "Threads_2 = pd.DataFrame(Threads_2, columns = ['Lijst', 'Duur'])\n",
    "\n",
    "print(Threads_2)"
   ]
  },
  {
   "cell_type": "code",
   "execution_count": 8,
   "metadata": {},
   "outputs": [
    {
     "name": "stdout",
     "output_type": "stream",
     "text": [
      "  Lijst      Duur\n",
      "0   10k  0.000515\n",
      "1  100k  0.000351\n",
      "2    1m  0.002425\n",
      "3   10m  0.026214\n"
     ]
    }
   ],
   "source": [
    "Threads_4 = {'Lijst': ['10k','100k','1m','10m'],\n",
    "        'Duur': Tijden4,\n",
    "        }\n",
    "\n",
    "Threads_4 = pd.DataFrame(Threads_4, columns = ['Lijst', 'Duur'])\n",
    "\n",
    "print(Threads_4)"
   ]
  },
  {
   "cell_type": "code",
   "execution_count": 9,
   "metadata": {},
   "outputs": [
    {
     "name": "stdout",
     "output_type": "stream",
     "text": [
      "  Lijst      Duur\n",
      "0   10k  0.000175\n",
      "1  100k  0.000396\n",
      "2    1m  0.002584\n",
      "3   10m  0.024395\n"
     ]
    }
   ],
   "source": [
    "Threads_8 = {'Lijst': ['10k','100k','1m','10m'],\n",
    "        'Duur': Tijden8,\n",
    "        }\n",
    "\n",
    "Threads_8 = pd.DataFrame(Threads_8, columns = ['Lijst', 'Duur'])\n",
    "\n",
    "print(Threads_8)"
   ]
  }
 ],
 "metadata": {
  "kernelspec": {
   "display_name": "Python 3",
   "language": "python",
   "name": "python3"
  },
  "language_info": {
   "codemirror_mode": {
    "name": "ipython",
    "version": 3
   },
   "file_extension": ".py",
   "mimetype": "text/x-python",
   "name": "python",
   "nbconvert_exporter": "python",
   "pygments_lexer": "ipython3",
   "version": "3.8.0"
  }
 },
 "nbformat": 4,
 "nbformat_minor": 4
}
