{
 "cells": [
  {
   "cell_type": "markdown",
   "metadata": {},
   "source": [
    "# De zeef van Eratosthenes\n",
    "De zeef van Eratosthenes (bibliothecaris van Alexandrië vanaf ca. 240 v.Chr.) is een al zeer lang bekend algoritme om priemgetallen te vinden. Deze elegante methode is vooral efficiënt wanneer zij wordt gebruikt voor de kleinere priemgetallen. De methode vergt echter het bijhouden van alle getallen kleiner dan de gebruikte bovengrens, wat naarmate de te bepalen priemgetallen groter worden een steeds groter nadeel wordt.\n",
    "Bron: https://nl.wikipedia.org/wiki/Zeef_van_Eratosthenes\n",
    "\n",
    "![Example](Afbeeldingen/Example.jpg)\n",
    "Bron: https://en.wikipedia.org/wiki/Sieve_of_Eratosthenes"
   ]
  },
  {
   "cell_type": "markdown",
   "metadata": {},
   "source": [
    "### De code van de zeef"
   ]
  },
  {
   "cell_type": "code",
   "execution_count": 1,
   "metadata": {},
   "outputs": [],
   "source": [
    "def Zeef_van_Eratosthenes(n, weergeven):\n",
    "    \n",
    "    weergeven_of_niet = weergeven\n",
    "    aantal_priemgetallen = 0\n",
    "    priem_getallen = []\n",
    "    k = 2 \n",
    "    \n",
    "    for i in range(k, n+1): # start bij 2, eindigt bij n+1\n",
    "        \n",
    "        if i not in priem_getallen:\n",
    "            if weergeven_of_niet == True:\n",
    "                print(i)\n",
    "                aantal_priemgetallen += 1\n",
    "            else:\n",
    "                aantal_priemgetallen += 1\n",
    "                \n",
    "            for j in range(i*i, n+1, i): \n",
    "                priem_getallen.append(j)\n",
    "                \n",
    "    if weergeven_of_niet == True:            \n",
    "        print('Totaal aantal priemgetallen is:', + aantal_priemgetallen)"
   ]
  },
  {
   "cell_type": "markdown",
   "metadata": {},
   "source": [
    "### Tests\n",
    "Hier ga ik testen of we daadwerkelijk de getallen terug krijgen die we willen. Dat doe ik door het handmatig na te gaan op een klein voorbeeld. Hier doe ik het op het getal 30, de verwachte getallen zijn: 2, 3, 5, 7, 11, 13, 17, 19"
   ]
  },
  {
   "cell_type": "code",
   "execution_count": 2,
   "metadata": {},
   "outputs": [
    {
     "name": "stdout",
     "output_type": "stream",
     "text": [
      "2\n",
      "3\n",
      "5\n",
      "7\n",
      "11\n",
      "13\n",
      "17\n",
      "19\n",
      "Totaal aantal priemgetallen is: 8\n",
      "None\n"
     ]
    }
   ],
   "source": [
    "print(Zeef_van_Eratosthenes(20, True));"
   ]
  },
  {
   "cell_type": "markdown",
   "metadata": {},
   "source": [
    "### Runtime"
   ]
  },
  {
   "cell_type": "code",
   "execution_count": 3,
   "metadata": {},
   "outputs": [
    {
     "name": "stdout",
     "output_type": "stream",
     "text": [
      "554 ms ± 9.31 ms per loop (mean ± std. dev. of 7 runs, 1 loop each)\n"
     ]
    }
   ],
   "source": [
    "%timeit -n 1 Zeef_van_Eratosthenes(10000, False)"
   ]
  }
 ],
 "metadata": {
  "kernelspec": {
   "display_name": "Python 3",
   "language": "python",
   "name": "python3"
  },
  "language_info": {
   "codemirror_mode": {
    "name": "ipython",
    "version": 3
   },
   "file_extension": ".py",
   "mimetype": "text/x-python",
   "name": "python",
   "nbconvert_exporter": "python",
   "pygments_lexer": "ipython3",
   "version": "3.8.0"
  }
 },
 "nbformat": 4,
 "nbformat_minor": 4
}
