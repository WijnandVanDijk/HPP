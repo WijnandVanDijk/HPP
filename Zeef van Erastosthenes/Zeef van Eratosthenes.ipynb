{
 "cells": [
  {
   "cell_type": "code",
   "execution_count": 1,
   "metadata": {},
   "outputs": [],
   "source": [
    "import multiprocessing\n",
    "import matplotlib.pyplot as plt"
   ]
  },
  {
   "cell_type": "markdown",
   "metadata": {},
   "source": [
    "# De zeef van Eratosthenes\n",
    "De zeef van Eratosthenes (bibliothecaris van Alexandrië vanaf ca. 240 v.Chr.) is een al zeer lang bekend algoritme om priemgetallen te vinden. Deze elegante methode is vooral efficiënt wanneer zij wordt gebruikt voor de kleinere priemgetallen. De methode vergt echter het bijhouden van alle getallen kleiner dan de gebruikte bovengrens, wat naarmate de te bepalen priemgetallen groter worden een steeds groter nadeel wordt.\n",
    "Bron: https://nl.wikipedia.org/wiki/Zeef_van_Eratosthenes\n",
    "\n",
    "![Example](Afbeeldingen/Example.jpg)\n",
    "Bron: https://en.wikipedia.org/wiki/Sieve_of_Eratosthenes"
   ]
  },
  {
   "cell_type": "markdown",
   "metadata": {},
   "source": [
    "### De code van de zeef"
   ]
  },
  {
   "cell_type": "code",
   "execution_count": 2,
   "metadata": {},
   "outputs": [],
   "source": [
    "def Zeef_van_Eratosthenes(n, weergeven):\n",
    "    \n",
    "    weergeven_of_niet = weergeven\n",
    "    aantal_priemgetallen = 0\n",
    "    priem_getallen = []\n",
    "    k = 2 \n",
    "    \n",
    "    for i in range(k, n+1): # start bij 2, eindigt bij n+1\n",
    "        \n",
    "        if i not in priem_getallen:\n",
    "            if weergeven_of_niet == True:\n",
    "                print(i)\n",
    "                aantal_priemgetallen += 1\n",
    "            else:\n",
    "                aantal_priemgetallen += 1\n",
    "                \n",
    "            for j in range(i*i, n+1, i): \n",
    "                priem_getallen.append(j)\n",
    "                \n",
    "    if weergeven_of_niet == True:            \n",
    "        print('Totaal aantal priemgetallen is:', + aantal_priemgetallen)"
   ]
  },
  {
   "cell_type": "markdown",
   "metadata": {},
   "source": [
    "### Tests\n",
    "Hier ga ik testen of we daadwerkelijk de getallen terug krijgen die we willen. Dat doe ik door het handmatig na te gaan op een klein voorbeeld. Hier doe ik het op het getal 30, de verwachte getallen zijn: 2, 3, 5, 7, 11, 13, 17, 19"
   ]
  },
  {
   "cell_type": "code",
   "execution_count": 3,
   "metadata": {},
   "outputs": [
    {
     "name": "stdout",
     "output_type": "stream",
     "text": [
      "2\n",
      "3\n",
      "5\n",
      "7\n",
      "11\n",
      "13\n",
      "17\n",
      "19\n",
      "Totaal aantal priemgetallen is: 8\n",
      "None\n"
     ]
    }
   ],
   "source": [
    "print(Zeef_van_Eratosthenes(20, True));"
   ]
  },
  {
   "cell_type": "markdown",
   "metadata": {},
   "source": [
    "### Runtime"
   ]
  },
  {
   "cell_type": "code",
   "execution_count": 4,
   "metadata": {},
   "outputs": [
    {
     "name": "stdout",
     "output_type": "stream",
     "text": [
      "57.1 µs ± 523 ns per loop (mean ± std. dev. of 7 runs, 5 loops each)\n"
     ]
    }
   ],
   "source": [
    "%timeit -n 5 Zeef_van_Eratosthenes(100, False)"
   ]
  },
  {
   "cell_type": "code",
   "execution_count": 5,
   "metadata": {},
   "outputs": [
    {
     "name": "stdout",
     "output_type": "stream",
     "text": [
      "5.16 ms ± 128 µs per loop (mean ± std. dev. of 7 runs, 5 loops each)\n"
     ]
    }
   ],
   "source": [
    "%timeit -n 5 Zeef_van_Eratosthenes(1000, False)"
   ]
  },
  {
   "cell_type": "code",
   "execution_count": 6,
   "metadata": {},
   "outputs": [
    {
     "name": "stdout",
     "output_type": "stream",
     "text": [
      "537 ms ± 4.26 ms per loop (mean ± std. dev. of 7 runs, 5 loops each)\n"
     ]
    }
   ],
   "source": [
    "%timeit -n 5 Zeef_van_Eratosthenes(10000, False)"
   ]
  },
  {
   "cell_type": "code",
   "execution_count": 8,
   "metadata": {},
   "outputs": [],
   "source": [
    "def plot(tijden):\n",
    "\n",
    "    names = ['100', '1000', '10000']\n",
    "    values = tijden\n",
    "\n",
    "    plt.figure(figsize=(9, 3))\n",
    "\n",
    "    plt.subplot(131)\n",
    "    plt.bar(names, values)\n",
    "    plt.subplot(132)\n",
    "    plt.scatter(names, values)\n",
    "    plt.subplot(133)\n",
    "    plt.plot(names, values)\n",
    "    plt.suptitle('Categorical Plotting')\n",
    "    plt.show()"
   ]
  },
  {
   "cell_type": "markdown",
   "metadata": {},
   "source": [
    "### Plots\n",
    "Hieronder ziet u drie plots met de tijd die het duurt om alle priemgetallen onder een bepaald getal te vinden, deze getallen zijn honerd, duizend en tien duizend. De tijden staan in milliseconden. De y-as is de uitkomst in ms, de x-as staat bij welke getallen hij kijkt naar alle priemgetallen."
   ]
  },
  {
   "cell_type": "code",
   "execution_count": 9,
   "metadata": {},
   "outputs": [
    {
     "data": {
      "image/png": "[encoded data removed]",
      "text/plain": [
       "<Figure size 648x216 with 3 Axes>"
      ]
     },
     "metadata": {
      "needs_background": "light"
     },
     "output_type": "display_data"
    }
   ],
   "source": [
    "plot([0.0571, 5.16, 537])"
   ]
  },
  {
   "cell_type": "markdown",
   "metadata": {},
   "source": [
    "### Analyse eerste plots\n",
    "In de grafieken is uit te lezen dat als de grote van het getal met 10 vermenigvuldigd wordt, de duur met rond de honderd vermenigvuldigd wordt. Ik kan het jammer genoeg niet vergelijken met andere tijden omdat MPI niet werkt."
   ]
  },
  {
   "cell_type": "code",
   "execution_count": 10,
   "metadata": {},
   "outputs": [],
   "source": [
    "def thread_test(functie):\n",
    "\n",
    "    threads = [1,2,4,8]\n",
    "\n",
    "    for thread_count in threads:\n",
    "        pool = multiprocessing.Pool(thread_count)\n",
    "        print(pool)\n",
    "\n",
    "        results = [pool.apply_async(functie)]\n",
    "        print(results)\n",
    "        %timeit functie"
   ]
  },
  {
   "cell_type": "code",
   "execution_count": 11,
   "metadata": {},
   "outputs": [
    {
     "name": "stdout",
     "output_type": "stream",
     "text": [
      "<multiprocessing.pool.Pool state=RUN pool_size=1>\n",
      "[<multiprocessing.pool.ApplyResult object at 0x000001C10DB9CBE0>]\n",
      "18 ns ± 0.0684 ns per loop (mean ± std. dev. of 7 runs, 100000000 loops each)\n",
      "<multiprocessing.pool.Pool state=RUN pool_size=2>\n",
      "[<multiprocessing.pool.ApplyResult object at 0x000001C10DBBCCD0>]\n",
      "17.8 ns ± 0.132 ns per loop (mean ± std. dev. of 7 runs, 100000000 loops each)\n",
      "<multiprocessing.pool.Pool state=RUN pool_size=4>\n",
      "[<multiprocessing.pool.ApplyResult object at 0x000001C10DBC8FA0>]\n",
      "17.9 ns ± 0.0936 ns per loop (mean ± std. dev. of 7 runs, 100000000 loops each)\n",
      "<multiprocessing.pool.Pool state=RUN pool_size=8>\n",
      "[<multiprocessing.pool.ApplyResult object at 0x000001C10DB9CD30>]\n",
      "17.9 ns ± 0.0762 ns per loop (mean ± std. dev. of 7 runs, 100000000 loops each)\n"
     ]
    }
   ],
   "source": [
    "thread_test(Zeef_van_Eratosthenes(100, False))"
   ]
  },
  {
   "cell_type": "code",
   "execution_count": 12,
   "metadata": {},
   "outputs": [
    {
     "name": "stdout",
     "output_type": "stream",
     "text": [
      "<multiprocessing.pool.Pool state=RUN pool_size=1>\n",
      "[<multiprocessing.pool.ApplyResult object at 0x000001C104F49940>]\n",
      "17.9 ns ± 0.0794 ns per loop (mean ± std. dev. of 7 runs, 100000000 loops each)\n",
      "<multiprocessing.pool.Pool state=RUN pool_size=2>\n",
      "[<multiprocessing.pool.ApplyResult object at 0x000001C10DBC8CA0>]\n",
      "18 ns ± 0.192 ns per loop (mean ± std. dev. of 7 runs, 100000000 loops each)\n",
      "<multiprocessing.pool.Pool state=RUN pool_size=4>\n",
      "[<multiprocessing.pool.ApplyResult object at 0x000001C10DBC8670>]\n",
      "17.8 ns ± 0.138 ns per loop (mean ± std. dev. of 7 runs, 100000000 loops each)\n",
      "<multiprocessing.pool.Pool state=RUN pool_size=8>\n",
      "[<multiprocessing.pool.ApplyResult object at 0x000001C10DB9CDF0>]\n",
      "17.8 ns ± 0.134 ns per loop (mean ± std. dev. of 7 runs, 100000000 loops each)\n"
     ]
    }
   ],
   "source": [
    "thread_test(Zeef_van_Eratosthenes(1000, False))"
   ]
  },
  {
   "cell_type": "code",
   "execution_count": 13,
   "metadata": {},
   "outputs": [
    {
     "name": "stdout",
     "output_type": "stream",
     "text": [
      "<multiprocessing.pool.Pool state=RUN pool_size=1>\n",
      "[<multiprocessing.pool.ApplyResult object at 0x000001C10DB9CB80>]\n",
      "17.9 ns ± 0.206 ns per loop (mean ± std. dev. of 7 runs, 100000000 loops each)\n",
      "<multiprocessing.pool.Pool state=RUN pool_size=2>\n",
      "[<multiprocessing.pool.ApplyResult object at 0x000001C10DBBC460>]\n",
      "17.9 ns ± 0.139 ns per loop (mean ± std. dev. of 7 runs, 100000000 loops each)\n",
      "<multiprocessing.pool.Pool state=RUN pool_size=4>\n",
      "[<multiprocessing.pool.ApplyResult object at 0x000001C10DBD01C0>]\n",
      "17.8 ns ± 0.067 ns per loop (mean ± std. dev. of 7 runs, 100000000 loops each)\n",
      "<multiprocessing.pool.Pool state=RUN pool_size=8>\n",
      "[<multiprocessing.pool.ApplyResult object at 0x000001C10DBC8A30>]\n",
      "18 ns ± 0.0623 ns per loop (mean ± std. dev. of 7 runs, 100000000 loops each)\n"
     ]
    }
   ],
   "source": [
    "thread_test(Zeef_van_Eratosthenes(10000, False)) # hoger dan werkt het niet meer..."
   ]
  },
  {
   "cell_type": "code",
   "execution_count": 14,
   "metadata": {},
   "outputs": [],
   "source": [
    "def plot_maken(tijden, tijden2, tijden3):\n",
    "\n",
    "    plt.plot([1,2,4,8], tijden)\n",
    "    plt.plot([1,2,4,8], tijden2)\n",
    "    plt.plot([1,2,4,8], tijden3)\n",
    "\n",
    "    plt.ylabel('Nanoseconde')\n",
    "    plt.xlabel('Threads')\n",
    "    plt.title('tijdsduur met verschillende hoeveelheden threads')\n",
    "    plt.legend(['100', '1000', '10000'], loc='upper right')"
   ]
  },
  {
   "cell_type": "code",
   "execution_count": 15,
   "metadata": {},
   "outputs": [
    {
     "data": {
      "image/png": "[encoded data removed]",
      "text/plain": [
       "<Figure size 432x288 with 1 Axes>"
      ]
     },
     "metadata": {
      "needs_background": "light"
     },
     "output_type": "display_data"
    }
   ],
   "source": [
    "plot_maken([18, 17.8, 17.9, 17.9], [17.9, 18, 17.8, 17.8], [17.9, 17.9, 17.8, 18])"
   ]
  },
  {
   "cell_type": "markdown",
   "metadata": {},
   "source": [
    "### Analyse tweede grafiek\n",
    "Er is geen/minieme tijdwinst geboekt, de 0.01 nanoseconde verschil merkt niemand op."
   ]
  },
  {
   "cell_type": "markdown",
   "metadata": {},
   "source": [
    "### Ontwerp voor als MPI wel had gewerkt\n",
    "Ik had een idee om als MPI wel gewerkt had het zo te doen:\n",
    "\n",
    "Als bijvoorbeeld een core bezig is met alle vermenigvuldigingen van 2 te marken, laat je de volgende core werken aan alle vermenigvuldigen van 3, en zo voort. Zo wordt als het werkt goed tegelijk gedaan en zal dit tijdswinst moeten maken.\n",
    "En als alles gemarkeerd is het de eerste core zijn taak om alles te printen."
   ]
  },
  {
   "cell_type": "markdown",
   "metadata": {},
   "source": [
    "### Bewijs dat het mpi niet werkt bij mij\n",
    "\n",
    "![ScreenHunter89](Afbeeldingen/ScreenHunter89.jpg)"
   ]
  }
 ],
 "metadata": {
  "kernelspec": {
   "display_name": "Python 3",
   "language": "python",
   "name": "python3"
  },
  "language_info": {
   "codemirror_mode": {
    "name": "ipython",
    "version": 3
   },
   "file_extension": ".py",
   "mimetype": "text/x-python",
   "name": "python",
   "nbconvert_exporter": "python",
   "pygments_lexer": "ipython3",
   "version": "3.8.0"
  }
 },
 "nbformat": 4,
 "nbformat_minor": 4
}
